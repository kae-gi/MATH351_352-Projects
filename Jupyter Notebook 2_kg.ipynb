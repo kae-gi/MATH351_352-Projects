{
 "cells": [
  {
   "cell_type": "markdown",
   "metadata": {},
   "source": [
    "# Jupyter Notebook 2 - Implementing The Algorithms"
   ]
  },
  {
   "cell_type": "markdown",
   "metadata": {},
   "source": [
    "At this point in the class, we've seen lots of important algorithms for doing polynomial interpolation and calculus - so this assignment, the last one, is about implementing them.\n",
    "\n",
    "\n",
    "There's 6 problems here, some of which build on previouis ones.  For instance, there's problems both on Richardson Extrapolation and the Romberg method; I imagine it's probably just easier to do these as two separate problems?  But you're definitely going to want to do the Newton interpolation problem and then just use it to do the following two problems.\n",
    "\n",
    "4 complete answers gets you a grade of C, 5 complete answers gets you a B, and doing all the problems gets you an A.  \n",
    "\n",
    "Hopefully this should be an easier assignment than Jupyter Notebook 1.  If it's taking you too much time please let me know.\n",
    "\n",
    "\n"
   ]
  },
  {
   "cell_type": "markdown",
   "metadata": {},
   "source": [
    "## Newton interpolation\n",
    "\n",
    "Write a function which computes, and returns, the interpolation polynomial.\n",
    "\n",
    "Input:  \n",
    "* x:  a list of x coordinates\n",
    "* y: a list of y cooridantes\n",
    " \n",
    "Output:\n",
    "* a function f which returns values of the interpolation polynomial\n",
    " \n",
    "Python lets you return functions on the fly and return them - so, for instance, here's how you might convert a list of coefficients into a polynomial function.  You probably won't want to do this *exact* thing, but you could do something similar."
   ]
  },
  {
   "cell_type": "code",
   "execution_count": 1,
   "metadata": {},
   "outputs": [],
   "source": [
    "def make_polynomial(a):\n",
    "    def result(x):\n",
    "        return sum(a[k] * x**k for k in range(len(a)))\n",
    "    return result\n",
    "   "
   ]
  },
  {
   "cell_type": "markdown",
   "metadata": {},
   "source": [
    "And here's how you use it."
   ]
  },
  {
   "cell_type": "code",
   "execution_count": 2,
   "metadata": {},
   "outputs": [],
   "source": [
    "# this now makes f the polynomial x^2 + 3*x + 2\n",
    "f = make_polynomial([2,3,1])\n",
    "print([(t,f(t)) for t in range(10)])"
   ]
  },
  {
   "cell_type": "code",
   "execution_count": 3,
   "metadata": {},
   "outputs": [],
   "source": [
    "# def divideDiff(xVals, yVals, ddNum):\n",
    "#     \"\"\" \n",
    "#     calculates the values for a round of divided differences\n",
    "#     \"\"\"\n",
    "#     dd_list = []\n",
    "#     for i in range(2, len(xVals)-ddNum+2):\n",
    "#         currentX = xVals[i-2]\n",
    "#         currentY = yVals[i-2]\n",
    "#         nextX = xVals[i+ddNum-2]\n",
    "#         nextY = yVals[i-1]\n",
    "#         result = (currentY-nextY)/(currentX-nextX) \n",
    "#         dd_list.append(result)\n",
    "#     return dd_list\n",
    "\n",
    "# def getDividedDiff(xVals, yVals):\n",
    "#     \"\"\" \n",
    "#     calls divideDiff to get the divided difference values for each round of divided differences \n",
    "#     (fills out the divided difference \"table\")\n",
    "#     \"\"\"\n",
    "#     dd_dict = {} # key is the particular round of divided difference; value is the list of divided difference values for that round\n",
    "#     dd_number = 1\n",
    "#     dd_dict[dd_number] = divideDiff(xVals, yVals, dd_number)\n",
    "#     p_coeffs = [yVals[0]]\n",
    "#     while dd_number < len(xVals)-1:\n",
    "#         dd_number+=1\n",
    "#         dd_dict[dd_number] = divideDiff(xVals, dd_dict[dd_number-1], dd_number)\n",
    "#     for key in dd_dict:\n",
    "#         p_coeffs.append(dd_dict[key][0])\n",
    "#     return p_coeffs\n",
    "\n",
    "import numpy as np\n",
    "\n",
    "def getDividedDiff(xVals, yVals):\n",
    "    \"\"\" cleaner and less complicated version of above \"\"\"\n",
    "    p_coeffs = np.copy(yVals)\n",
    "    for j in range(1, len(xVals)):\n",
    "        for i in range(len(xVals)-1, j-1, -1):\n",
    "            currX = xVals[i-j]\n",
    "            currY = p_coeffs[i-1]\n",
    "            nextX = xVals[i]\n",
    "            nextY = p_coeffs[i]\n",
    "            p_coeffs[i] = (nextY-currY)/(nextX-currX)\n",
    "    return p_coeffs          \n",
    "\n",
    "def interpolatePoly(xVals, yVals):   \n",
    "    def result(t):\n",
    "        \"\"\" calculates the polynomial and values of the polynomial in range t\"\"\"\n",
    "        p_coeffs = getDividedDiff(xVals,yVals)\n",
    "        p = p_coeffs[len(xVals)-1]\n",
    "        for i in range(len(xVals)-2,-1,-1):\n",
    "            p = p*(t-xVals[i]) + p_coeffs[i]\n",
    "        return p\n",
    "    return result"
   ]
  },
  {
   "cell_type": "code",
   "execution_count": 4,
   "metadata": {},
   "outputs": [],
   "source": [
    "xVals = [1, 2, 3]\n",
    "yVals = [2, 4, 6]\n",
    "p = interpolatePoly(xVals, yVals)\n",
    "print([(t, p(t)) for t in range(10)])\n"
   ]
  },
  {
   "cell_type": "markdown",
   "metadata": {},
   "source": [
    "## Take that, third grade math\n",
    "\n",
    "Using your Newton interpolation code (or some other method), write a function which guesses the next few numbers in a sequence of numbers using polynomial interpolation.  For instance, if you say\n",
    "\n",
    "guess(1,4,9,16)\n",
    "\n",
    "it should notice that you've given it the sequence of squares, and return\n",
    "\n",
    "[1,4,9,16,25,36,49]\n",
    "\n",
    "To make a python function that takes a variable number of arguments, use a star in the arguments definition, like this:"
   ]
  },
  {
   "cell_type": "code",
   "execution_count": 5,
   "metadata": {},
   "outputs": [],
   "source": [
    "def sum_plus_ten(*L):\n",
    "    return sum(L)+10\n",
    "\n",
    "sum_plus_ten(1,2,3,4,5,6,7)"
   ]
  },
  {
   "cell_type": "code",
   "execution_count": 6,
   "metadata": {},
   "outputs": [],
   "source": [
    "def guess(*L):\n",
    "    \"\"\" \n",
    "    uses polynomial interpretation to guess the next few numbers from a given sequence\n",
    "    (i will be assuming that each sequence of numbers starts at x=1, as i am otherwise \n",
    "    not sure how to provide x values to my function to create an interpolation polynomial)\n",
    "    \"\"\"\n",
    "    xVals = []\n",
    "    yVals = []\n",
    "    for i in range(1, len(L)+1):\n",
    "        xVals.append(i)\n",
    "        yVals.append(L[i-1])\n",
    "    p = interpolatePoly(xVals, yVals)      \n",
    "    return [p(t) for t in range(10)]\n",
    "\n",
    "print(guess(1,4,9,16))\n",
    "print(guess(2,4,6,8))"
   ]
  },
  {
   "cell_type": "markdown",
   "metadata": {},
   "source": [
    "## Runge Function\n",
    "\n",
    "Using your polynomial interpolation code above, plot graphs of the Runge function \n",
    "\n",
    "$$f(x) = \\frac{1}{1+x^2}$$\n",
    "\n",
    "on the interval [-5, 5], as well as its interpolation polynomials with equally spaced points.  Se if you can duplicate Figure 4.7 on Page 155 of the text.  Also show the errors getting worse with more points.\n"
   ]
  },
  {
   "cell_type": "code",
   "execution_count": 7,
   "metadata": {},
   "outputs": [
    {
     "data": {
      "image/png": "[encoded data removed]",
      "text/plain": [
       "<Figure size 432x288 with 1 Axes>"
      ]
     },
     "metadata": {
      "needs_background": "light"
     },
     "output_type": "display_data"
    }
   ],
   "source": [
    "\"\"\" trying to duplicate picture from text \"\"\"\n",
    "import matplotlib.pyplot as plt \n",
    "import numpy as np\n",
    "\n",
    "xpt = np.array([-5, -3.75, -2.5, -1.25, 0, 1.25, 2.5, 3.75, 5])\n",
    "ypt = np.array([1/(1+x**2) for x in xpt])\n",
    "\n",
    "#f(x)\n",
    "x = np.linspace(-5, 5, 100)\n",
    "y = 1/(1+x**2)\n",
    "\n",
    "#Calculates graphs interpolating polynomial\n",
    "p = interpolatePoly(xpt, ypt)\n",
    "tval = np.linspace(-5, 5, 100)\n",
    "yval = p(tval)\n",
    "\n",
    "#Setting the axes at the centre\n",
    "fig = plt.figure()\n",
    "ax = fig.add_subplot(1, 1, 1)\n",
    "ax.spines['left'].set_position('center')\n",
    "ax.spines['bottom'].set_position('zero')\n",
    "ax.spines['right'].set_color('none')\n",
    "ax.spines['top'].set_color('none')\n",
    "ax.xaxis.set_ticks_position('bottom')\n",
    "ax.yaxis.set_ticks_position('left')\n",
    "\n",
    "#Plotting\n",
    "#trying to match the picture on p.155\n",
    "plt.plot(tval,yval, 'b', label = 'interpolation poly, text')\n",
    "plt.plot(xpt,ypt,color='b',marker='o', linestyle='') # the equally spaced points\n",
    "#f(x)\n",
    "plt.plot(x,y, 'r', label = 'f(x)')\n",
    "\n",
    "plt.legend()\n",
    "plt.title('Interpolation Graphs')\n",
    "plt.ylim([-2.5,2.5])\n",
    "plt.show()\n"
   ]
  },
  {
   "cell_type": "code",
   "execution_count": 8,
   "metadata": {},
   "outputs": [
    {
     "data": {
      "image/png": "[encoded data removed]",
      "text/plain": [
       "<Figure size 432x288 with 1 Axes>"
      ]
     },
     "metadata": {
      "needs_background": "light"
     },
     "output_type": "display_data"
    }
   ],
   "source": [
    "\"\"\" making things look worse with more points \"\"\"\n",
    "import matplotlib.pyplot as plt \n",
    "import numpy as np\n",
    "\n",
    "xpt1 = np.array([-5, -3.75, -2.5, -1.25, 0, 1.25, 2.5, 3.75, 5])\n",
    "ypt1 = np.array([1/(1+x**2) for x in xpt1])\n",
    "\n",
    "xpt2 = np.array([-5, -4, -3, -2, -1, 0, 1, 2, 3, 4, 5])\n",
    "ypt2 = np.array([1/(1+x**2) for x in xpt2])\n",
    "\n",
    "xpt3 = np.array([-5, -4.5, -4, -3.5, -3, -2.5, -2, -1.5, -1, -0.5, 0, 0.5, 1, 1.5, 2, 2.5, 3, 3.5, 4, 4.5, 5])\n",
    "ypt3 = np.array([1/(1+x**2) for x in xpt3])\n",
    "\n",
    "\n",
    "#Calculates graphs interpolating polynomial\n",
    "p1 = interpolatePoly(xpt1, ypt1)\n",
    "tval = np.linspace(-5, 5, 100)\n",
    "yval1 = p1(tval)\n",
    "\n",
    "p2 = interpolatePoly(xpt2, ypt2)\n",
    "tval = np.linspace(-5, 5, 100)\n",
    "yval2 = p2(tval)\n",
    "\n",
    "p3 = interpolatePoly(xpt3, ypt3)\n",
    "tval = np.linspace(-5, 5, 100)\n",
    "yval3 = p3(tval)\n",
    "\n",
    "#Setting the axes at the centre\n",
    "fig = plt.figure()\n",
    "ax = fig.add_subplot(1, 1, 1)\n",
    "ax.spines['left'].set_position('center')\n",
    "ax.spines['bottom'].set_position('zero')\n",
    "ax.spines['right'].set_color('none')\n",
    "ax.spines['top'].set_color('none')\n",
    "ax.xaxis.set_ticks_position('bottom')\n",
    "ax.yaxis.set_ticks_position('left')\n",
    "\n",
    "#Plotting\n",
    "#displaying how much worse it gets with more points, 21 points\n",
    "plt.plot(tval,yval3, 'y', label = 'interpolation poly, even worse')\n",
    "plt.plot(xpt3,ypt3,color='y',marker='o', linestyle='') # the equally spaced points\n",
    "\n",
    "#displaying how much worse it gets with more points, 11 points\n",
    "plt.plot(tval,yval2, 'g', label = 'interpolation poly, worse')\n",
    "plt.plot(xpt2,ypt2,color='g',marker='o', linestyle='') # the equally spaced points\n",
    "\n",
    "#9 points\n",
    "plt.plot(tval,yval1, 'b', label = 'interpolation poly, text')\n",
    "plt.plot(xpt1,ypt1,color='b',marker='o', linestyle='') # the equally spaced points\n",
    "\n",
    "#f(x)\n",
    "plt.plot(x,y, 'r', label = 'f(x)')\n",
    "\n",
    "plt.legend()\n",
    "plt.title('Interpolation Graphs')\n",
    "plt.ylim([-2.5,2.5])\n",
    "plt.show()\n"
   ]
  },
  {
   "cell_type": "markdown",
   "metadata": {},
   "source": [
    "## Richardson Extrapolation\n",
    "\n"
   ]
  },
  {
   "cell_type": "markdown",
   "metadata": {},
   "source": [
    "Implement the Richardson Extrapolation algorithm for computing the derivative of $\\tan x$ numerically - and check it against the known formula $\\frac{d}{dx} \\tan x = \\sec^2 x$."
   ]
  },
  {
   "cell_type": "code",
   "execution_count": 9,
   "metadata": {},
   "outputs": [
    {
     "name": "stdout",
     "output_type": "stream",
     "text": [
      "Richardson extrapolated value: 1.3333333333333257\n",
      "True value of derivative: 1.333333333333333\n"
     ]
    }
   ],
   "source": [
    "import numpy as np\n",
    "def rich_extrapolation(f, x, h, n):\n",
    "    \"\"\"\n",
    "    f = function\n",
    "    x = a specific point\n",
    "    h = a value of h\n",
    "    n = number of rows to be computed in array\n",
    "    Based on pseudocode from pg. 170 of text.\n",
    "    \"\"\"\n",
    "    rows, cols = (n, n) \n",
    "    d = [[0 for i in range(cols)] for j in range(rows)] \n",
    "    for i in range(0, n):\n",
    "        d[i][0] = (f(x+h) - f(x-h))/(2*h)\n",
    "        for j in range(1, i):\n",
    "            d[i][j] = d[i][j-1] + (d[i][j-1] - d[i-1][j-1])/((4**j)-1)\n",
    "        h = h/2\n",
    "    return d\n",
    "\n",
    "def f(x):\n",
    "    \"\"\" function for the question\"\"\"\n",
    "    return np.tan(x)\n",
    "\n",
    "x0 = np.pi/6\n",
    "arr = rich_extrapolation(f, x0, 1, 10)\n",
    "# for row in arr: \n",
    "#     print(row) \n",
    "   \n",
    "print(f\"Richardson extrapolated value: {arr[9][8]}\")\n",
    "print(f\"True value of derivative: {1/(np.cos(x0)**2)}\")   \n",
    "\n",
    "\n",
    "#example function from text\n",
    "# def f(x):\n",
    "#     \"\"\" function for the question\"\"\"\n",
    "#     return np.sin(x)\n",
    "# arr = rich_extrapolation(f, 1.2309594154, 1, 10)\n",
    "# for row in arr: \n",
    "#     print(row)  \n",
    "# print(f\"True value of derivative: {np.cos(1.2309594154)}\")   "
   ]
  },
  {
   "cell_type": "markdown",
   "metadata": {},
   "source": [
    "## Recursive trapezoid rule\n",
    "\n",
    "Implement the recursive trapezoid rule as described in Section 5.2 of the text, and use it to numerically integrate $f(x) = \\frac{1}{x^2}$ from $x=1$ to $x=2$, with 16 intervals.  Compare with the true value of the integral.\n"
   ]
  },
  {
   "cell_type": "code",
   "execution_count": 10,
   "metadata": {},
   "outputs": [
    {
     "name": "stdout",
     "output_type": "stream",
     "text": [
      "Trapezoid rule value of f(x) from x=1 to 2, with 16 intervals: 0.4839198465057685\n",
      "Recursive trapezoid rule value of f(x) from x=1 to 2, with 16 intervals: 0.47095788302231306\n",
      "True value of integral of f(x) from x=1 to 2: 0.5\n"
     ]
    }
   ],
   "source": [
    "def trapezoid(f, a, b, n):\n",
    "    \"\"\"\n",
    "    f = function\n",
    "    a = lower bound\n",
    "    b = upper bound\n",
    "    n = number of trapezoids or intervals\n",
    "    Based on pseudocode from pg. 191 of text.\n",
    "    \"\"\"\n",
    "    h = (b-a)/n\n",
    "    ans = 0.5*(f(a)+f(b))\n",
    "    for i in range(1, n-1):\n",
    "        x = a + i*h\n",
    "        ans += f(x)\n",
    "    return ans * h\n",
    "\n",
    "def rec_trapezoid(f, a, b, n):\n",
    "    rows, cols = (n, n) \n",
    "    r = [[0 for i in range(cols)] for j in range(rows)] \n",
    "    h = (b-a)/(2**n)\n",
    "    r[0][0] = (h/2)*(f(a)+f(b))\n",
    "    for i in range(1, n):\n",
    "        ans = 0\n",
    "        for k in range(1, (2**i)-1):\n",
    "            ans += f(a + (k*h))\n",
    "        r[i][0] = 0.5*(r[i-1][0])+(ans*h)\n",
    "    return r\n",
    "\n",
    "def f(x):\n",
    "    \"\"\" function for the question\"\"\"\n",
    "    return 1/(x**2)\n",
    "\n",
    "print(f\"Trapezoid rule value of f(x) from x=1 to 2, with 16 intervals: {trapezoid(f, 1, 2, 16)}\")\n",
    "rec = rec_trapezoid(f, 1, 2, 16)\n",
    "print(f\"Recursive trapezoid rule value of f(x) from x=1 to 2, with 16 intervals: {rec[15][0]}\")\n",
    "print(f\"True value of integral of f(x) from x=1 to 2: 0.5\") #calculated on the side"
   ]
  },
  {
   "cell_type": "markdown",
   "metadata": {},
   "source": [
    "## Romberg Algorithm\n",
    "\n",
    "Building on your work above, implement the Romberg algorithm and compute $R(4,4)$ for the same function $f(x)$.  Print out the entire table $R(m,n)$ used to do the computation."
   ]
  },
  {
   "cell_type": "code",
   "execution_count": 25,
   "metadata": {},
   "outputs": [
    {
     "name": "stdout",
     "output_type": "stream",
     "text": [
      "0.4375517644970929\n",
      "0.39309952026256084\n",
      "0.4886071890445087\n",
      "\n",
      "[0.625, 0, 0, 0, 0, 0, 0, 0]\n",
      "[0.3125, 0, 0, 0, 0, 0, 0, 0]\n",
      "[0.31625000000000003, 0.31750000000000006, 0, 0, 0, 0, 0, 0]\n",
      "[0.3703434126846131, 0.3883745502461508, 0.39309952026256084, 0, 0, 0, 0, 0]\n",
      "[0.4179561276849068, 0.4338270326850047, 0.43685719818092833, 0.4375517644970929, 0, 0, 0, 0]\n",
      "[0.4507733791168159, 0.46171246292745227, 0.4635714916102821, 0.46399552801392263, 0.464099229047322, 0, 0, 0]\n",
      "[0.4713830912437377, 0.4782529952860449, 0.47935569744328443, 0.47960624039301464, 0.47966745887293266, 0.4796826770839059, 0, 0]\n",
      "[0.48371417183951126, 0.48782453203810244, 0.4884626344882396, 0.4886071890445087, 0.48864248688235773, 0.4886512601257687, 0.48865345025593765, 0]\n"
     ]
    }
   ],
   "source": [
    "import numpy as np\n",
    "def romberg(f, a, b, n):\n",
    "    \"\"\" \n",
    "    f = function\n",
    "    a = lower bound\n",
    "    b = upper bound\n",
    "    n = number of intervals\n",
    "    Based on the pseudocode from pg. 206\n",
    "    \"\"\"\n",
    "    rows, cols = (n, n) \n",
    "    r = [[0 for i in range(cols)] for j in range(rows)] \n",
    "    h = b-a\n",
    "    r[0][0] = (h/2)*(f(a)+f(b))\n",
    "    for i in range(1, n):\n",
    "        h = h/2\n",
    "        ans = 0\n",
    "        for k in range(1, (2**i)-1, 2):\n",
    "            ans += f(a + (k*h))\n",
    "        r[i][0] = 0.5*(r[i-1][0])+(ans*h)\n",
    "        for j in range(1, i):\n",
    "            r[i][j] = r[i][j-1] + (r[i][j-1] - r[i-1][j-1])/((4**j)-1)\n",
    "    return r\n",
    "\n",
    "def f(x):\n",
    "    \"\"\" function for the question\"\"\"\n",
    "    return 1/(x**2)\n",
    "\n",
    "arr = romberg(f, 1, 2, 8)\n",
    "print(arr[4][3]) # not sure what R(4, 4) really is based from this function since arr[4][4] = 0, but I think it is arr[4][3]\n",
    "print(arr[3][2]) # or maybe something to do with arrays starting at 0?\n",
    "print(arr[7][3]) # or maybe it has to do with n?? \n",
    "print(\"\")\n",
    "for row in arr: \n",
    "    print(row) \n"
   ]
  },
  {
   "cell_type": "code",
   "execution_count": null,
   "metadata": {},
   "outputs": [],
   "source": []
  }
 ],
 "metadata": {
  "kernelspec": {
   "display_name": "Python 3",
   "language": "python",
   "name": "python3"
  },
  "language_info": {
   "codemirror_mode": {
    "name": "ipython",
    "version": 3
   },
   "file_extension": ".py",
   "mimetype": "text/x-python",
   "name": "python",
   "nbconvert_exporter": "python",
   "pygments_lexer": "ipython3",
   "version": "3.8.5"
  }
 },
 "nbformat": 4,
 "nbformat_minor": 4
}
