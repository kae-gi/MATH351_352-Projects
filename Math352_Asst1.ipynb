{
 "cells": [
  {
   "cell_type": "markdown",
   "metadata": {},
   "source": [
    "Kaetlyn Gibson\n",
    "\n",
    "Math 352\n",
    "\n",
    "Asst. 1"
   ]
  },
  {
   "cell_type": "markdown",
   "metadata": {},
   "source": [
    "# The basics: numpy, scipy, sympy\n",
    "\n",
    "The most important thing to do with this assignment is to get Jupyter Notebook installed and running, so I guess that you've done that if you're looking at this worksheet! Well done.\n",
    "\n",
    "First of all, let's do some basic stuff with linear algebra.  There's basically 3 libraries where you can find linear algebra routines in python: numpy, scipy, and sympy.  \n",
    "\n",
    "For playing with row-reduction, sympy will actually have more of what we need than numpy/scipy - they're more focused on applications (so, they'll have a \"solve\" command for solving systems of linear equations, but most of the math that it's doing is hidden, and it might not even be doing row reduction!)"
   ]
  },
  {
   "cell_type": "code",
   "execution_count": 1,
   "metadata": {},
   "outputs": [],
   "source": [
    "import numpy as np\n",
    "# from scipy import linalg\n",
    "import sympy"
   ]
  },
  {
   "cell_type": "markdown",
   "metadata": {},
   "source": [
    "For future reference, here's a crash course on how numpy/scipy's linear algebra stuff works.\n",
    "\n",
    "https://docs.scipy.org/doc/scipy/reference/tutorial/linalg.html\n",
    "\n",
    "And here's some references for sympy:\n",
    "\n",
    "https://docs.sympy.org/latest/tutorial/matrices.html\n",
    "\n",
    "In short, there's a shocking amount of powerful mathematics built in to the program, we just have to figure out how to use it. "
   ]
  },
  {
   "cell_type": "markdown",
   "metadata": {},
   "source": [
    "# Solving systems\n",
    "\n",
    "Using sympy, enter the matrix\n",
    "$$M=\n",
    "\\begin{bmatrix} 1 & 2 & 3 \\\\ 4 & 5 & 6 \\\\ 7 & 8 & 9\n",
    "\\end{bmatrix}\n",
    "$$\n",
    "and row-reduce it using the rref() method.  How many free variables and pivots are there?  As a result, how many solutions to the system $Mx=0$ should we expect to find?  Find these solutions with the nullspace() method.\n",
    "\n",
    "Now, enter the same matrix into numpy, and use numpy's solve() method.  Why does numpy find only one solution, whereas scipy finds all of them?  Is something broken, or is this the intended behavior?\n"
   ]
  },
  {
   "cell_type": "code",
   "execution_count": 2,
   "metadata": {},
   "outputs": [
    {
     "name": "stdout",
     "output_type": "stream",
     "text": [
      "Row reduced matrix: \n",
      "(Matrix([\n",
      "[1, 0, -1],\n",
      "[0, 1,  2],\n",
      "[0, 0,  0]]), (0, 1))\n",
      "\n",
      "Nullspace: \n",
      "[Matrix([\n",
      "[ 1],\n",
      "[-2],\n",
      "[ 1]])]\n"
     ]
    }
   ],
   "source": [
    "# sympy\n",
    "M = sympy.Matrix([[1, 2, 3], [4, 5, 6], [7, 8, 9]])\n",
    "print(f\"Row reduced matrix: \\n{M.rref()}\") \n",
    "# there are 2 pivots, 1 free variable; we should \n",
    "# expect infinite solutions for the system due to a\n",
    "# free variable and a consistent matrix\n",
    "\n",
    "print(f\"\\nNullspace: \\n{M.nullspace()}\")\n",
    "# complete solution would be\n",
    "# [[x1],[x2],[x3]] = x3 * [[1],[-2],[1]]\n",
    "# where x3 is a real number"
   ]
  },
  {
   "cell_type": "markdown",
   "metadata": {},
   "source": [
    "I'm not quite sure what is happening here (below). I put in both matrix M and the row-reduced matrix. I get singular matrix error (which makes sense) when I use the row-reduced for both scipy and numpy, unless if I use least-squares. If I perform solve on matrix M, I have no singular matrix error, and both answers are the same from scipy and numpy. Results and errors are replicated below. Either way, I am only seeing one solution for numpy and scipy (the trivial solution), not multiple for scipy (referring to \"scipy finds all of them\"); in other words, not sure how to answer the last two questions."
   ]
  },
  {
   "cell_type": "code",
   "execution_count": 3,
   "metadata": {},
   "outputs": [
    {
     "name": "stdout",
     "output_type": "stream",
     "text": [
      "[[ 1  0 -1]\n",
      " [ 0  1  2]\n",
      " [ 0  0  0]]\n",
      "[[0]\n",
      " [0]\n",
      " [0]]\n",
      "\n",
      "[[ 0.]\n",
      " [ 0.]\n",
      " [-0.]] \n",
      "\n",
      "(array([[0.],\n",
      "       [0.],\n",
      "       [0.]]), array([], dtype=float64), 2, array([2.44948974, 1.        , 0.        ])) \n",
      "\n"
     ]
    },
    {
     "ename": "LinAlgError",
     "evalue": "Singular matrix",
     "output_type": "error",
     "traceback": [
      "\u001b[1;31m---------------------------------------------------------------------------\u001b[0m",
      "\u001b[1;31mLinAlgError\u001b[0m                               Traceback (most recent call last)",
      "\u001b[1;32m<ipython-input-3-6600a1606752>\u001b[0m in \u001b[0;36m<module>\u001b[1;34m\u001b[0m\n\u001b[0;32m     11\u001b[0m \u001b[0mx2\u001b[0m \u001b[1;33m=\u001b[0m \u001b[0mnp\u001b[0m\u001b[1;33m.\u001b[0m\u001b[0mlinalg\u001b[0m\u001b[1;33m.\u001b[0m\u001b[0mlstsq\u001b[0m\u001b[1;33m(\u001b[0m\u001b[0mA\u001b[0m\u001b[1;33m,\u001b[0m \u001b[0mb\u001b[0m\u001b[1;33m,\u001b[0m \u001b[0mrcond\u001b[0m\u001b[1;33m=\u001b[0m\u001b[1;33m-\u001b[0m\u001b[1;36m1\u001b[0m\u001b[1;33m)\u001b[0m\u001b[1;33m\u001b[0m\u001b[1;33m\u001b[0m\u001b[0m\n\u001b[0;32m     12\u001b[0m \u001b[0mprint\u001b[0m\u001b[1;33m(\u001b[0m\u001b[0mx2\u001b[0m\u001b[1;33m,\u001b[0m \u001b[1;34m\"\\n\"\u001b[0m\u001b[1;33m)\u001b[0m\u001b[1;33m\u001b[0m\u001b[1;33m\u001b[0m\u001b[0m\n\u001b[1;32m---> 13\u001b[1;33m \u001b[0mx3\u001b[0m \u001b[1;33m=\u001b[0m \u001b[0mnp\u001b[0m\u001b[1;33m.\u001b[0m\u001b[0mlinalg\u001b[0m\u001b[1;33m.\u001b[0m\u001b[0msolve\u001b[0m\u001b[1;33m(\u001b[0m\u001b[0mA\u001b[0m\u001b[1;33m,\u001b[0m \u001b[0mb\u001b[0m\u001b[1;33m)\u001b[0m\u001b[1;33m\u001b[0m\u001b[1;33m\u001b[0m\u001b[0m\n\u001b[0m\u001b[0;32m     14\u001b[0m \u001b[0mprint\u001b[0m\u001b[1;33m(\u001b[0m\u001b[0mx3\u001b[0m\u001b[1;33m)\u001b[0m\u001b[1;33m\u001b[0m\u001b[1;33m\u001b[0m\u001b[0m\n",
      "\u001b[1;32m<__array_function__ internals>\u001b[0m in \u001b[0;36msolve\u001b[1;34m(*args, **kwargs)\u001b[0m\n",
      "\u001b[1;32m~\\anaconda3\\lib\\site-packages\\numpy\\linalg\\linalg.py\u001b[0m in \u001b[0;36msolve\u001b[1;34m(a, b)\u001b[0m\n\u001b[0;32m    392\u001b[0m     \u001b[0msignature\u001b[0m \u001b[1;33m=\u001b[0m \u001b[1;34m'DD->D'\u001b[0m \u001b[1;32mif\u001b[0m \u001b[0misComplexType\u001b[0m\u001b[1;33m(\u001b[0m\u001b[0mt\u001b[0m\u001b[1;33m)\u001b[0m \u001b[1;32melse\u001b[0m \u001b[1;34m'dd->d'\u001b[0m\u001b[1;33m\u001b[0m\u001b[1;33m\u001b[0m\u001b[0m\n\u001b[0;32m    393\u001b[0m     \u001b[0mextobj\u001b[0m \u001b[1;33m=\u001b[0m \u001b[0mget_linalg_error_extobj\u001b[0m\u001b[1;33m(\u001b[0m\u001b[0m_raise_linalgerror_singular\u001b[0m\u001b[1;33m)\u001b[0m\u001b[1;33m\u001b[0m\u001b[1;33m\u001b[0m\u001b[0m\n\u001b[1;32m--> 394\u001b[1;33m     \u001b[0mr\u001b[0m \u001b[1;33m=\u001b[0m \u001b[0mgufunc\u001b[0m\u001b[1;33m(\u001b[0m\u001b[0ma\u001b[0m\u001b[1;33m,\u001b[0m \u001b[0mb\u001b[0m\u001b[1;33m,\u001b[0m \u001b[0msignature\u001b[0m\u001b[1;33m=\u001b[0m\u001b[0msignature\u001b[0m\u001b[1;33m,\u001b[0m \u001b[0mextobj\u001b[0m\u001b[1;33m=\u001b[0m\u001b[0mextobj\u001b[0m\u001b[1;33m)\u001b[0m\u001b[1;33m\u001b[0m\u001b[1;33m\u001b[0m\u001b[0m\n\u001b[0m\u001b[0;32m    395\u001b[0m \u001b[1;33m\u001b[0m\u001b[0m\n\u001b[0;32m    396\u001b[0m     \u001b[1;32mreturn\u001b[0m \u001b[0mwrap\u001b[0m\u001b[1;33m(\u001b[0m\u001b[0mr\u001b[0m\u001b[1;33m.\u001b[0m\u001b[0mastype\u001b[0m\u001b[1;33m(\u001b[0m\u001b[0mresult_t\u001b[0m\u001b[1;33m,\u001b[0m \u001b[0mcopy\u001b[0m\u001b[1;33m=\u001b[0m\u001b[1;32mFalse\u001b[0m\u001b[1;33m)\u001b[0m\u001b[1;33m)\u001b[0m\u001b[1;33m\u001b[0m\u001b[1;33m\u001b[0m\u001b[0m\n",
      "\u001b[1;32m~\\anaconda3\\lib\\site-packages\\numpy\\linalg\\linalg.py\u001b[0m in \u001b[0;36m_raise_linalgerror_singular\u001b[1;34m(err, flag)\u001b[0m\n\u001b[0;32m     86\u001b[0m \u001b[1;33m\u001b[0m\u001b[0m\n\u001b[0;32m     87\u001b[0m \u001b[1;32mdef\u001b[0m \u001b[0m_raise_linalgerror_singular\u001b[0m\u001b[1;33m(\u001b[0m\u001b[0merr\u001b[0m\u001b[1;33m,\u001b[0m \u001b[0mflag\u001b[0m\u001b[1;33m)\u001b[0m\u001b[1;33m:\u001b[0m\u001b[1;33m\u001b[0m\u001b[1;33m\u001b[0m\u001b[0m\n\u001b[1;32m---> 88\u001b[1;33m     \u001b[1;32mraise\u001b[0m \u001b[0mLinAlgError\u001b[0m\u001b[1;33m(\u001b[0m\u001b[1;34m\"Singular matrix\"\u001b[0m\u001b[1;33m)\u001b[0m\u001b[1;33m\u001b[0m\u001b[1;33m\u001b[0m\u001b[0m\n\u001b[0m\u001b[0;32m     89\u001b[0m \u001b[1;33m\u001b[0m\u001b[0m\n\u001b[0;32m     90\u001b[0m \u001b[1;32mdef\u001b[0m \u001b[0m_raise_linalgerror_nonposdef\u001b[0m\u001b[1;33m(\u001b[0m\u001b[0merr\u001b[0m\u001b[1;33m,\u001b[0m \u001b[0mflag\u001b[0m\u001b[1;33m)\u001b[0m\u001b[1;33m:\u001b[0m\u001b[1;33m\u001b[0m\u001b[1;33m\u001b[0m\u001b[0m\n",
      "\u001b[1;31mLinAlgError\u001b[0m: Singular matrix"
     ]
    }
   ],
   "source": [
    "# numpy\n",
    "M = np.array([[1, 2, 3], [4, 5, 6], [7, 8, 9]])\n",
    "A = np.array([[1, 0, -1], [0, 1, 2], [0, 0, 0]])\n",
    "print(A)\n",
    "b = np.array([[0],[0],[0]])\n",
    "print(b)\n",
    "print(\"\")\n",
    "\n",
    "x1 = np.linalg.solve(M, b)\n",
    "print(x1,\"\\n\")\n",
    "x2 = np.linalg.lstsq(A, b, rcond=-1)\n",
    "print(x2, \"\\n\")\n",
    "x3 = np.linalg.solve(A, b)\n",
    "print(x3)"
   ]
  },
  {
   "cell_type": "code",
   "execution_count": 4,
   "metadata": {},
   "outputs": [
    {
     "name": "stdout",
     "output_type": "stream",
     "text": [
      "[[ 1  0 -1]\n",
      " [ 0  1  2]\n",
      " [ 0  0  0]]\n",
      "[[0]\n",
      " [0]\n",
      " [0]]\n",
      "\n",
      "[[ 0.]\n",
      " [ 0.]\n",
      " [-0.]] \n",
      "\n"
     ]
    },
    {
     "name": "stderr",
     "output_type": "stream",
     "text": [
      "<ipython-input-4-afe25602cd1d>:9: LinAlgWarning: Ill-conditioned matrix (rcond=2.20282e-18): result may not be accurate.\n",
      "  x1 = linalg.solve(M,b)\n"
     ]
    },
    {
     "ename": "LinAlgError",
     "evalue": "Matrix is singular.",
     "output_type": "error",
     "traceback": [
      "\u001b[1;31m---------------------------------------------------------------------------\u001b[0m",
      "\u001b[1;31mLinAlgError\u001b[0m                               Traceback (most recent call last)",
      "\u001b[1;32m<ipython-input-4-afe25602cd1d>\u001b[0m in \u001b[0;36m<module>\u001b[1;34m\u001b[0m\n\u001b[0;32m      9\u001b[0m \u001b[0mx1\u001b[0m \u001b[1;33m=\u001b[0m \u001b[0mlinalg\u001b[0m\u001b[1;33m.\u001b[0m\u001b[0msolve\u001b[0m\u001b[1;33m(\u001b[0m\u001b[0mM\u001b[0m\u001b[1;33m,\u001b[0m\u001b[0mb\u001b[0m\u001b[1;33m)\u001b[0m\u001b[1;33m\u001b[0m\u001b[1;33m\u001b[0m\u001b[0m\n\u001b[0;32m     10\u001b[0m \u001b[0mprint\u001b[0m\u001b[1;33m(\u001b[0m\u001b[0mx1\u001b[0m\u001b[1;33m,\u001b[0m \u001b[1;34m\"\\n\"\u001b[0m\u001b[1;33m)\u001b[0m\u001b[1;33m\u001b[0m\u001b[1;33m\u001b[0m\u001b[0m\n\u001b[1;32m---> 11\u001b[1;33m \u001b[0mx2\u001b[0m \u001b[1;33m=\u001b[0m \u001b[0mlinalg\u001b[0m\u001b[1;33m.\u001b[0m\u001b[0msolve\u001b[0m\u001b[1;33m(\u001b[0m\u001b[0mA\u001b[0m\u001b[1;33m,\u001b[0m\u001b[0mb\u001b[0m\u001b[1;33m)\u001b[0m\u001b[1;33m\u001b[0m\u001b[1;33m\u001b[0m\u001b[0m\n\u001b[0m\u001b[0;32m     12\u001b[0m \u001b[0mprint\u001b[0m\u001b[1;33m(\u001b[0m\u001b[0mx2\u001b[0m\u001b[1;33m)\u001b[0m\u001b[1;33m\u001b[0m\u001b[1;33m\u001b[0m\u001b[0m\n",
      "\u001b[1;32m~\\anaconda3\\lib\\site-packages\\scipy\\linalg\\basic.py\u001b[0m in \u001b[0;36msolve\u001b[1;34m(a, b, sym_pos, lower, overwrite_a, overwrite_b, debug, check_finite, assume_a, transposed)\u001b[0m\n\u001b[0;32m    212\u001b[0m                                                (a1, b1))\n\u001b[0;32m    213\u001b[0m         \u001b[0mlu\u001b[0m\u001b[1;33m,\u001b[0m \u001b[0mipvt\u001b[0m\u001b[1;33m,\u001b[0m \u001b[0minfo\u001b[0m \u001b[1;33m=\u001b[0m \u001b[0mgetrf\u001b[0m\u001b[1;33m(\u001b[0m\u001b[0ma1\u001b[0m\u001b[1;33m,\u001b[0m \u001b[0moverwrite_a\u001b[0m\u001b[1;33m=\u001b[0m\u001b[0moverwrite_a\u001b[0m\u001b[1;33m)\u001b[0m\u001b[1;33m\u001b[0m\u001b[1;33m\u001b[0m\u001b[0m\n\u001b[1;32m--> 214\u001b[1;33m         \u001b[0m_solve_check\u001b[0m\u001b[1;33m(\u001b[0m\u001b[0mn\u001b[0m\u001b[1;33m,\u001b[0m \u001b[0minfo\u001b[0m\u001b[1;33m)\u001b[0m\u001b[1;33m\u001b[0m\u001b[1;33m\u001b[0m\u001b[0m\n\u001b[0m\u001b[0;32m    215\u001b[0m         x, info = getrs(lu, ipvt, b1,\n\u001b[0;32m    216\u001b[0m                         trans=trans, overwrite_b=overwrite_b)\n",
      "\u001b[1;32m~\\anaconda3\\lib\\site-packages\\scipy\\linalg\\basic.py\u001b[0m in \u001b[0;36m_solve_check\u001b[1;34m(n, info, lamch, rcond)\u001b[0m\n\u001b[0;32m     27\u001b[0m                          '.'.format(-info))\n\u001b[0;32m     28\u001b[0m     \u001b[1;32melif\u001b[0m \u001b[1;36m0\u001b[0m \u001b[1;33m<\u001b[0m \u001b[0minfo\u001b[0m\u001b[1;33m:\u001b[0m\u001b[1;33m\u001b[0m\u001b[1;33m\u001b[0m\u001b[0m\n\u001b[1;32m---> 29\u001b[1;33m         \u001b[1;32mraise\u001b[0m \u001b[0mLinAlgError\u001b[0m\u001b[1;33m(\u001b[0m\u001b[1;34m'Matrix is singular.'\u001b[0m\u001b[1;33m)\u001b[0m\u001b[1;33m\u001b[0m\u001b[1;33m\u001b[0m\u001b[0m\n\u001b[0m\u001b[0;32m     30\u001b[0m \u001b[1;33m\u001b[0m\u001b[0m\n\u001b[0;32m     31\u001b[0m     \u001b[1;32mif\u001b[0m \u001b[0mlamch\u001b[0m \u001b[1;32mis\u001b[0m \u001b[1;32mNone\u001b[0m\u001b[1;33m:\u001b[0m\u001b[1;33m\u001b[0m\u001b[1;33m\u001b[0m\u001b[0m\n",
      "\u001b[1;31mLinAlgError\u001b[0m: Matrix is singular."
     ]
    }
   ],
   "source": [
    "from scipy import linalg\n",
    "M = np.array([[1, 2, 3], [4, 5, 6], [7, 8, 9]])\n",
    "A = np.array([[1, 0, -1], [0, 1, 2], [0, 0, 0]])\n",
    "print(A)\n",
    "b = np.array([[0],[0],[0]])\n",
    "print(b)\n",
    "print(\"\")\n",
    "\n",
    "x1 = linalg.solve(M,b)\n",
    "print(x1, \"\\n\")\n",
    "x2 = linalg.solve(A,b)\n",
    "print(x2)"
   ]
  },
  {
   "cell_type": "code",
   "execution_count": 5,
   "metadata": {},
   "outputs": [
    {
     "data": {
      "text/plain": [
       "array([[0.],\n",
       "       [0.],\n",
       "       [0.]])"
      ]
     },
     "execution_count": 5,
     "metadata": {},
     "output_type": "execute_result"
    }
   ],
   "source": [
    "# also tried the inverse method on M. I get the trivial solution.\n",
    "A = np.array([[1, 2, 3], [4, 5, 6], [7, 8, 9]])\n",
    "b = np.array([[0],[0],[0]])\n",
    "linalg.inv(A).dot(b)\n"
   ]
  },
  {
   "cell_type": "markdown",
   "metadata": {},
   "source": [
    "# Polynomial interpolation and the vandermonde matrix\n",
    "\n",
    "If you'll recall Math 351 momentarily, we have a variety of ways of computing interpolating polynomials.  One of them we didn't go into much depth on at the time: it was inverting the so-called *Vandermonde Matrix*.  See the text, page 135.\n",
    "\n",
    "numpy has a built-in vandermonde matrix command.  Use it to find the unique degree 3 polynomial which passes through the points: (0,0), (1,1), (-1,5), (0.5,0.5)."
   ]
  },
  {
   "cell_type": "code",
   "execution_count": 6,
   "metadata": {},
   "outputs": [
    {
     "name": "stdout",
     "output_type": "stream",
     "text": [
      "Vandermonde Matrix: \n",
      "[[ 1.     0.     0.     0.   ]\n",
      " [ 1.     1.     1.     1.   ]\n",
      " [ 1.    -1.     1.    -1.   ]\n",
      " [ 1.     0.5    0.25   0.125]]\n"
     ]
    },
    {
     "data": {
      "text/plain": [
       "array([[ 0.],\n",
       "       [ 0.],\n",
       "       [ 3.],\n",
       "       [-2.]])"
      ]
     },
     "execution_count": 6,
     "metadata": {},
     "output_type": "execute_result"
    }
   ],
   "source": [
    "# construct vandermonde matrix using x values from points\n",
    "vA = np.vander([0, 1, -1, 0.5], increasing = True)\n",
    "print(f\"Vandermonde Matrix: \\n{vA}\")\n",
    "b = np.array([[0], [1], [5], [0.5]])\n",
    "\n",
    "np.linalg.solve(vA, b)\n",
    "# p(x) = 0 + 0x + 3x^2 + -2x^3"
   ]
  },
  {
   "cell_type": "code",
   "execution_count": 7,
   "metadata": {},
   "outputs": [
    {
     "data": {
      "image/png": "[encoded data removed]",
      "text/plain": [
       "<Figure size 432x288 with 1 Axes>"
      ]
     },
     "metadata": {
      "needs_background": "light"
     },
     "output_type": "display_data"
    }
   ],
   "source": [
    "# plot the polynomial for visual purposes\n",
    "import matplotlib.pyplot as plt \n",
    "\n",
    "xpt = np.array([0, 1, -1, 0.5])\n",
    "ypt = np.array([0, 1, 5, 0.5])\n",
    "\n",
    "# p(x)\n",
    "x = np.linspace(-1.5, 1.5, 100)\n",
    "y = 3*(x**2) + -2*(x**3)\n",
    "\n",
    "# Setting the axes at the centre\n",
    "fig = plt.figure()\n",
    "ax = fig.add_subplot(1, 1, 1)\n",
    "ax.spines['left'].set_position('center')\n",
    "ax.spines['bottom'].set_position('zero')\n",
    "ax.spines['right'].set_color('none')\n",
    "ax.spines['top'].set_color('none')\n",
    "ax.xaxis.set_ticks_position('bottom')\n",
    "ax.yaxis.set_ticks_position('left')\n",
    "\n",
    "# Plotting\n",
    "plt.plot(xpt,ypt,color='r',marker='o', linestyle='') # the equally spaced points\n",
    "plt.plot(x,y, 'r', label = 'p(x)')\n",
    "\n",
    "plt.legend()\n",
    "plt.title('Interpolation Poly')\n",
    "plt.ylim([-1.5,5.5])\n",
    "plt.show()"
   ]
  },
  {
   "cell_type": "markdown",
   "metadata": {},
   "source": [
    "# Speed\n",
    "\n",
    "Figure out how to make an $n$ by $n$ matrix $A$ of random numbers in numpy and in scipy, as well as a length-$n$ vector $b$ of random numbers.  Chances are that such a matrix $A$ is invertible, so it should be possible to solve the system $Ax=b$.\n",
    "\n",
    "For what $n$ does it take your computer about ten seconds to solve the system $Ax=b$ with numpy?  With scipy?\n",
    "\n",
    "\n",
    "\n"
   ]
  },
  {
   "cell_type": "code",
   "execution_count": 8,
   "metadata": {},
   "outputs": [
    {
     "name": "stdout",
     "output_type": "stream",
     "text": [
      "numpy: \n",
      "[[ 0.32466825]\n",
      " [ 0.56877392]\n",
      " [-1.12356496]\n",
      " ...\n",
      " [ 0.23281957]\n",
      " [-2.2785974 ]\n",
      " [-1.59035634]]\n",
      "9.545829399999999\n"
     ]
    }
   ],
   "source": [
    "import timeit\n",
    "n = 14500\n",
    "# nxn matrix\n",
    "A = np.random.rand(n,n)\n",
    "# length-n vector\n",
    "b = np.array([np.random.rand(n)])\n",
    "b = b.T # transpose for proper formatting\n",
    "\n",
    "# Ax = b\n",
    "start_time = timeit.default_timer()\n",
    "print(f\"numpy: \\n{np.linalg.solve(A, b)}\")\n",
    "print(timeit.default_timer() - start_time)"
   ]
  },
  {
   "cell_type": "code",
   "execution_count": 9,
   "metadata": {},
   "outputs": [
    {
     "name": "stdout",
     "output_type": "stream",
     "text": [
      "scipy: \n",
      "[[ -1.74002434]\n",
      " [-18.15865911]\n",
      " [ -6.19551671]\n",
      " ...\n",
      " [ -9.59440385]\n",
      " [  0.40694083]\n",
      " [ -8.70611452]]\n",
      "10.101170199999999\n"
     ]
    }
   ],
   "source": [
    "import timeit\n",
    "n = 10000\n",
    "# nxn matrix\n",
    "A = np.random.rand(n,n)\n",
    "# length-n vector\n",
    "b = np.array([np.random.rand(n)])\n",
    "b = b.T # transpose for proper formatting\n",
    "\n",
    "# Ax = b\n",
    "start_time = timeit.default_timer()\n",
    "print(f\"scipy: \\n{linalg.solve(A, b)}\")\n",
    "print(timeit.default_timer() - start_time)"
   ]
  },
  {
   "cell_type": "markdown",
   "metadata": {},
   "source": [
    "# Bad pivoting\n",
    "\n",
    "Verify the results at the start of chapter 7:  that the two by two system\n",
    "$$\\begin{bmatrix} \\epsilon &1 \\\\\n",
    "1 & 1\n",
    "\\end{bmatrix}\n",
    "x = \\begin{bmatrix} 1 \\\\ 2 \\end{bmatrix} $$\n",
    "\n",
    "is sensitive to the way in which the pivoting is done.  It's a little tricky to get a proper, industrial-strength linear algebra library to do its pivoting naively, but one way to do this is to use scipy's LUsolve() method (which, by definition, always does naive pivoting - we'll see why in Chapter 8).\n",
    "\n",
    "Then, verify that using LUsolve() on a large-ish Vandermonde matrix gives meaningless results, as asserted in Example 1 of Chapter 7.1."
   ]
  },
  {
   "cell_type": "code",
   "execution_count": 10,
   "metadata": {},
   "outputs": [
    {
     "name": "stdout",
     "output_type": "stream",
     "text": [
      "No row order change results: \n",
      "[[0.]\n",
      " [1.]]\n",
      "Change to row order results: \n",
      "[[1.]\n",
      " [1.]]\n"
     ]
    }
   ],
   "source": [
    "e = 1*(10**(-20))\n",
    "A = np.array([[e, 1],[1, 1]])\n",
    "b = np.array([[1], [2]])\n",
    "\n",
    "# results after no row order change\n",
    "piv = np.array([1,0])\n",
    "x = linalg.lu_solve((A, piv), b)\n",
    "print(f\"No row order change results: \\n{x}\")\n",
    "\n",
    "# results after row swapping (more accurate)\n",
    "A = np.array([[e, 1],[1, 1]])\n",
    "lu, piv = linalg.lu_factor(A)\n",
    "x = linalg.lu_solve((lu, piv), b)\n",
    "print(f\"Change to row order results: \\n{x}\")"
   ]
  },
  {
   "cell_type": "code",
   "execution_count": 11,
   "metadata": {},
   "outputs": [
    {
     "name": "stdout",
     "output_type": "stream",
     "text": [
      "Vandermonde Matrix: \n",
      "[[      1       1       1       1       1       1       1       1]\n",
      " [      1       2       4       8      16      32      64     128]\n",
      " [      1       3       9      27      81     243     729    2187]\n",
      " [      1       4      16      64     256    1024    4096   16384]\n",
      " [      1       5      25     125     625    3125   15625   78125]\n",
      " [      1       6      36     216    1296    7776   46656  279936]\n",
      " [      1       7      49     343    2401   16807  117649  823543]\n",
      " [      1       8      64     512    4096   32768  262144 2097152]]\n",
      "[[-1.06581410e-14]\n",
      " [ 1.00000000e+00]\n",
      " [-2.62365746e-14]\n",
      " [ 1.30929218e-14]\n",
      " [-3.63752238e-15]\n",
      " [ 5.67755719e-16]\n",
      " [-4.64134903e-17]\n",
      " [ 1.54197642e-18]]\n"
     ]
    }
   ],
   "source": [
    "# construct vandermonde matrix using x values from points\n",
    "vA = np.vander([1, 2, 3, 4, 5, 6, 7, 8], increasing = True)\n",
    "print(f\"Vandermonde Matrix: \\n{vA}\")\n",
    "b = np.array([[1], [2], [3], [4], [5], [6], [7], [8]])\n",
    "\n",
    "lu, piv = linalg.lu_factor(vA)\n",
    "x = linalg.lu_solve((lu, piv), b)\n",
    "print(x)"
   ]
  }
 ],
 "metadata": {
  "kernelspec": {
   "display_name": "Python 3",
   "language": "python",
   "name": "python3"
  },
  "language_info": {
   "codemirror_mode": {
    "name": "ipython",
    "version": 3
   },
   "file_extension": ".py",
   "mimetype": "text/x-python",
   "name": "python",
   "nbconvert_exporter": "python",
   "pygments_lexer": "ipython3",
   "version": "3.8.5"
  }
 },
 "nbformat": 4,
 "nbformat_minor": 4
}
