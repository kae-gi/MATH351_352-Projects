{
 "cells": [
  {
   "cell_type": "markdown",
   "metadata": {},
   "source": [
    "### Kaetlyn Gibson, Math 351\n",
    "### I did not do 2 of the problems. Also sorry for being late.\n"
   ]
  },
  {
   "cell_type": "markdown",
   "metadata": {},
   "source": [
    "# Chapter 1 - Computer exercises\n",
    "\n",
    "In order to succeed in Math 351, you're going to have to read the textbook quite closely.  This is true for any math class in any term, of course, but it's *even more* true for a fully online version of a Numerical Analysis class!\n",
    "\n",
    "These exercises are meant to accompany your reading of the text, and in fact I'm writing them as I read my own way through the text to prepare the lectures.  \n",
    "\n",
    "Please answer the coding question with clear python code, and the writing questions with clearly written short answers.  You can add new cells to this worksheet with your answers.  Please delete any problems you're not answering.\n",
    "\n",
    "\n",
    "## Grading Scheme\n",
    "\n",
    "I have included below 8 problems - four from section 1.1, and four from section 1.2.  Please do some of them (not all from the same section of the text, please).\n",
    "\n",
    "To get a C on this assignment, do at least 4 of the problems.\n",
    "\n",
    "To get a B, do at least 6 problems.\n",
    "\n",
    "To get an A, do all the problems.\n",
    "\n",
    "Independently: if your writing is good, your code is clean and your work is in general particularly well presented, I'll give you an +  (making your grade A+, B+, or C+).  If it's hard for me to read and understand, I'll give you a - (making your grade A-,B- or C-).  \n",
    "\n",
    "## A couple notes\n",
    "\n",
    "*Note:* if English is not your first language, or Python is not your first computer language, please don't worry about it! I don't care about your spelling and I only care a little about your grammar.  I care a lot about whether you are *clear*.  If you're not sure whether your work is clear, show it to a friend and see if they understand it.\n",
    "\n",
    "*Note:* If you don't like the grade you ended up with I'll give you a chance to revise and resubmit."
   ]
  },
  {
   "cell_type": "markdown",
   "metadata": {},
   "source": [
    "## Section 1.1: Let's do Example 2\n",
    "\n",
    "Consider the system of equations\n",
    "\\begin{align} \n",
    "0.1036x + 0.2122y &= 0.7381 \\\\\n",
    "0.2081x + 0.4247y &= 0.9327 \\\\\n",
    "\\end{align}\n",
    "\n",
    "on Page 4 of the textbook (that's the page number which is printed; in my version of the text it's the 29th page of the PDF).  Follow the Solution in the example, using python as a calculator.  Let's write the above equation as\n",
    "\\begin{align}\n",
    "ax + by &= c \\\\\n",
    "dx + ey &= f \\\\\n",
    "\\end{align}\n",
    "\n",
    "so that $a=0.1036$, $b=0.2122$, and so on.  We're going to multiply the second equation by some number $\\alpha$ and subtract it from the first equation - but we're only going to keep D significant digits of the calculation throughout (to start with, D=3). That means we're going to round off the *INPUTS* and *OUTPUTS* of every arithmetic operation to D places.  So, for instance we might say something like this:"
   ]
  },
  {
   "cell_type": "code",
   "execution_count": 1,
   "metadata": {},
   "outputs": [
    {
     "name": "stdout",
     "output_type": "stream",
     "text": [
      "0.208\n",
      "0.104\n",
      "2.0\n"
     ]
    }
   ],
   "source": [
    "[a,b,c] = [0.1036, 0.2122, 0.7381]\n",
    "[d,e,f] = [0.2081, 0.4247, 0.9327]\n",
    "D = 3\n",
    "\n",
    "alpha= round(round(d,D)/round(a,D),D)\n",
    "print(alpha)"
   ]
  },
  {
   "cell_type": "markdown",
   "metadata": {},
   "source": [
    "which is the value of alpha that the text book comes up with - see the line \"...the *multiplier* $\\alpha=0.208/0.104 \\approx 2.00$...\"\n",
    "\n",
    "**Coding question:** Finish the computation - find the new coefficient of the $x$ term and the $y$ term, find the right side, and find the value of $y$.  Then change $D$, the amount of rounding - first to 4 decimals, then to enough decimals so that (in practice) no rounding is occuring at all.  See if you can duplicate the textbook's results. \n",
    "\n",
    "**Writing question:** \n",
    "1. Why does this particular system of equations behave so badly with respect to rounding? That is, if you wanted to construct another example of this phenomenon, how would you go about doing it?  \n",
    "2. If rounding is so bad, why does the text say, on Page 6, that \"As a rule of thumb, one should keep as many significant digits in a sequence of calculations as there are in the least accurate number involved in the computations?\""
   ]
  },
  {
   "cell_type": "code",
   "execution_count": 45,
   "metadata": {},
   "outputs": [
    {
     "name": "stdout",
     "output_type": "stream",
     "text": [
      "D = 3\n",
      "-> xTerm coefficient is: 0.0\n",
      "-> yTerm coefficient is: 0.001\n",
      "-> right side is: -0.543\n",
      "-> y value is: -543.0\n",
      "\n",
      "D = 4\n",
      "-> xTerm coefficient is: -0.0\n",
      "-> yTerm coefficient is: -0.0015\n",
      "-> right side is: -0.5499\n",
      "-> y value is: 366.6\n",
      "\n",
      "D = 10\n",
      "-> xTerm coefficient is: -0.0\n",
      "-> yTerm coefficient is: -0.0015434363\n",
      "-> right side is: -0.5499120656\n",
      "-> y value is: 356.2907426759\n",
      "\n"
     ]
    }
   ],
   "source": [
    "# coding question\n",
    "\n",
    "for D in [3, 4, 10]:\n",
    "    print(f\"D = {D}\")\n",
    "    alpha= round(round(d,D)/round(a,D),D)\n",
    "    # > Find x-term coefficient\n",
    "    xTermCo = round(round(d, D)-((alpha)*round(a,D)), D)\n",
    "    print(\"-> xTerm coefficient is:\", xTermCo)\n",
    "    # > Find y-term coefficient\n",
    "    yTermCo = round(round(e, D)-((alpha)*round(b, D)), D)\n",
    "    print(\"-> yTerm coefficient is:\", yTermCo)\n",
    "    # > Find right side\n",
    "    rightSide = round(round(f, D) - (alpha)*round(c,D), D)\n",
    "    print(\"-> right side is:\", rightSide)\n",
    "    # > Find value of y\n",
    "    yValue = round(rightSide/(yTermCo), D)\n",
    "    print(\"-> y value is:\", yValue)\n",
    "    print(\"\")\n",
    "    "
   ]
  },
  {
   "cell_type": "markdown",
   "metadata": {},
   "source": [
    "**Q1: Why does this particular system of equations behave so badly with respect to rounding? That is, if you wanted to construct another example of this phenomenon, how would you go about doing it?** \n",
    "\n",
    "Loss of precision may be occurring from roundoff errors. To avoid replication, data should not be rounded off prior to each of the calculations, and instead full precision should be carried through calculations.\n",
    "\n",
    "---\n",
    "**Q2: If rounding is so bad, why does the text say, on Page 6, that \"As a rule of thumb, one should keep as many significant digits in a sequence of calculations as there are in the least accurate number involved in the computations?\"**\n",
    "\n",
    "To avoid having higher precision than is warranted."
   ]
  },
  {
   "cell_type": "markdown",
   "metadata": {},
   "source": [
    "## Section 1.1: Rounding and chopping\n",
    "\n",
    "On Page 6, a notion of *round-to-even* or *banker's rounding* is introduced.  The textbook asserts that \"over a large set of data, the round-to-even rule tends to reduce the total rounding error with (on average) an equal proportion of numbers rounding up as well as rounding down\".  \n",
    "\n",
    "**programming exercise:** Write three python functions: chop, round_to_even, round_up, which work like the built-in Python function round() that I used in the previous example, but implement chopping, banker's rounding, and \"naive rounding\", in which numbers ending in a 5 are always rounded up.  \n",
    "\n",
    "**experiment:** Figure out which of these different rounding techniques Python's round() function is using (see the previous exercise).\n",
    "\n",
    "**experiment/writing exercise**: Here's some code which makes a small list of random numbers, rounds them off, and adds them together:"
   ]
  },
  {
   "cell_type": "code",
   "execution_count": 2,
   "metadata": {},
   "outputs": [],
   "source": [
    "from random import random"
   ]
  },
  {
   "cell_type": "code",
   "execution_count": 441,
   "metadata": {},
   "outputs": [
    {
     "name": "stdout",
     "output_type": "stream",
     "text": [
      "2.2911952895186327 2.292\n"
     ]
    }
   ],
   "source": [
    "L = [random() for i in range(5)]\n",
    "L_rounded = [round(u, 3) for u in L]\n",
    "\n",
    "print(sum(L), sum(L_rounded))"
   ]
  },
  {
   "cell_type": "code",
   "execution_count": 454,
   "metadata": {},
   "outputs": [
    {
     "name": "stdout",
     "output_type": "stream",
     "text": [
      "[11.0]\n"
     ]
    }
   ],
   "source": [
    "from random import *\n",
    "#print float(\"{0:.2f}\".format(random.uniform(greaterThan, lessThan)))\n",
    "\n",
    "L = [float(\"{0:.2f}\".format(randrange(1, 20)))]\n",
    "print (L)\n",
    "# L_rounded = [round(u, 3) for u in L]\n",
    "\n",
    "# print(sum(L), sum(L_rounded))"
   ]
  },
  {
   "cell_type": "markdown",
   "metadata": {},
   "source": [
    "Do something similar with your three functions, but with a *big* list of numbers.  Think of an experiment you can do to compare the rounding errors involved with your three rounding methods; explain what you did, run the experiment and report the results.  Do you agree with the text that banker's rounding is better than the other options?"
   ]
  },
  {
   "cell_type": "code",
   "execution_count": 514,
   "metadata": {},
   "outputs": [
    {
     "name": "stdout",
     "output_type": "stream",
     "text": [
      "245.685\n",
      "============\n",
      "2445\n",
      "============\n",
      "============\n",
      "2445.65787\n",
      "============\n",
      "2445.65\n"
     ]
    }
   ],
   "source": [
    "# Programming exercise\n",
    "def chop1(x, n):\n",
    "    \"\"\" digits that follow nth digit are discarded and none of the remaining n digits are changed \"\"\"\n",
    "    # I am assuming we are counting digits from left to right and not exclusively decimal digits\n",
    "    # for example, chopping at the third digit of 245.6854 yields 245, not 245.685\n",
    "    xString = str(x)       \n",
    "    \n",
    "    if (x*10) % 10 != 0:\n",
    "        # check if x has a decimal, and where it is\n",
    "        digitsBeforeDecimal = 0\n",
    "        digitsAfterDecimal = 0\n",
    "        decimalDigit = 0\n",
    "        decimalDigitFound = False\n",
    "        for digit in range(len(xString)):\n",
    "            if decimalDigitFound is False:\n",
    "                digitsBeforeDecimal = digit\n",
    "            if xString[digit] == \".\":\n",
    "                decimalDigit = digit\n",
    "                decimalDigitFound = True\n",
    "            if digit > decimalDigit and decimalDigitFound is True:\n",
    "                digitsAfterDecimal += 1\n",
    "        # chop the digits after n\n",
    "        removeDecimalDigits = x * (10**(digitsAfterDecimal))\n",
    "        separateChopped = str(removeDecimalDigits)[:n]\n",
    "        recoverPostChopNum = int(separateChopped) * (10**-(n - digitsBeforeDecimal))\n",
    "    else:\n",
    "        # if x does not have a decimal\n",
    "        separateChopped = (x * (10**-n)) \n",
    "        chopDigits = int(separateChopped)\n",
    "        recoverPostChopNum = chopDigits * (10**n)\n",
    "    return recoverPostChopNum\n",
    "            \n",
    "    \n",
    "print(chop(245.6854, 3))\n",
    "print(\"============\")\n",
    "print(chop(2445, 3))\n",
    "print(\"============\")\n",
    "\n",
    "print(\"============\")\n",
    "print(chop(2445.65787, 5))\n",
    "print(\"============\")\n",
    "print(chop(2445.65787, 2))"
   ]
  },
  {
   "cell_type": "code",
   "execution_count": 507,
   "metadata": {},
   "outputs": [
    {
     "name": "stdout",
     "output_type": "stream",
     "text": [
      "0.685\n",
      "============\n",
      "2445.65\n",
      "============\n",
      "2445.6578\n",
      "============\n",
      "2445.6\n"
     ]
    }
   ],
   "source": [
    "def chop(x, n):\n",
    "    \"\"\" digits that follow nth digit are discarded and none of the remaining n digits are changed \"\"\"\n",
    "    # I am assuming we are exclusively decimal digits now, for testing purposes since it seemed odd to try and compare\n",
    "    # to the other rounding. This goes from left to right of the decimal point.\n",
    "    xString = str(x)       \n",
    "    \n",
    "    if (x*10) % 10 != 0:\n",
    "        # check if x has a decimal, and where it is\n",
    "        digitsBeforeDecimal = 0\n",
    "        digitsAfterDecimal = 0\n",
    "        decimalDigit = 0\n",
    "        decimalDigitFound = False\n",
    "        for digit in range(len(xString)):\n",
    "            if decimalDigitFound is False:\n",
    "                digitsBeforeDecimal = digit\n",
    "            if xString[digit] == \".\":\n",
    "                decimalDigit = digit\n",
    "                decimalDigitFound = True\n",
    "            if digit > decimalDigit and decimalDigitFound is True:\n",
    "                digitsAfterDecimal += 1\n",
    "        # chop the decimal digits after n\n",
    "        removeDecimalDigits = x * (10**n)\n",
    "        separateChopped = int(removeDecimalDigits)\n",
    "        recoverPostChopNum = separateChopped*(10**-(n))\n",
    "    else:\n",
    "        # if x does not have a decimal\n",
    "        return x\n",
    "    return recoverPostChopNum\n",
    "            \n",
    "    \n",
    "print(chop(0.6854, 3))\n",
    "print(\"============\")\n",
    "print(chop(2445.6578, 2))\n",
    "print(\"============\")\n",
    "print(chop(2445.65782, 4))\n",
    "print(\"============\")\n",
    "print(chop(2445.65787, 1))"
   ]
  },
  {
   "cell_type": "code",
   "execution_count": 518,
   "metadata": {},
   "outputs": [
    {
     "name": "stdout",
     "output_type": "stream",
     "text": [
      "49930104.5 49930104.5\n",
      "0.0\n",
      "48911959.04999937 48911909.0\n",
      "50.049999371171\n",
      "51052155.10499912 51052150.10000091\n",
      "5.004998207092285\n",
      "==================================================\n",
      "50111037.5 45426700\n",
      "4684337.5\n",
      "52096654.04999928 47546730\n",
      "4549924.049999282\n",
      "51274276.104999095 46763830\n",
      "4510446.104999095\n"
     ]
    }
   ],
   "source": [
    "# check for error; chop\n",
    "from random import *\n",
    "\n",
    "L1 = [(randrange(0, 100000)+ 0.5) for i in range(1001)]\n",
    "L1_rounded = [chop(x, 1) for x in L1]\n",
    "print(sum(L1), sum(L1_rounded))\n",
    "print(sum(L1) - sum(L1_rounded))\n",
    "\n",
    "L2 = [(randrange(0, 100000)+ 0.05) for i in range(1001)]\n",
    "L2_rounded = [chop(x, 1) for x in L2]\n",
    "print(sum(L2), sum(L2_rounded))\n",
    "print(sum(L2) - sum(L2_rounded))\n",
    "\n",
    "L3 = [(randrange(0, 100000)+ 0.105) for i in range(1001)]\n",
    "L3_rounded = [chop(x, 1) for x in L3]\n",
    "print(sum(L3), sum(L3_rounded))\n",
    "print(sum(L3) - sum(L3_rounded))\n",
    "\n",
    "print(\"==================================================\")\n",
    "# check for error; chop1\n",
    "\n",
    "L4 = [(randrange(0, 100000)+ 0.5) for i in range(1001)]\n",
    "L4_rounded = [chop1(x, 1) for x in L4]\n",
    "print(sum(L4), sum(L4_rounded))\n",
    "print(sum(L4) - sum(L4_rounded))\n",
    "\n",
    "L5 = [(randrange(0, 100000)+ 0.05) for i in range(1001)]\n",
    "L5_rounded = [chop1(x, 1) for x in L5]\n",
    "print(sum(L5), sum(L5_rounded))\n",
    "print(sum(L5) - sum(L5_rounded))\n",
    "\n",
    "L6 = [(randrange(0, 100000)+ 0.105) for i in range(1001)]\n",
    "L6_rounded = [chop1(x, 1) for x in L6]\n",
    "print(sum(L6), sum(L6_rounded))\n",
    "print(sum(L6) - sum(L6_rounded))"
   ]
  },
  {
   "cell_type": "markdown",
   "metadata": {},
   "source": [
    "The test for chop is somewhat limited. While the |0.0| error difference is nice, it doesn't mean much given the sample set. Changing the end from 0.5 to 0.05 starts to show more difference, though 0.105 doesn't seem to do much.\n",
    "\n",
    "\n",
    "The results for chop1 on the other hand are very bad. The difference in error is huge, though the test likely sets it up for failure. Starting from left to right makes me question if it should have been going from right to left nth digit..."
   ]
  },
  {
   "cell_type": "code",
   "execution_count": 436,
   "metadata": {},
   "outputs": [
    {
     "name": "stdout",
     "output_type": "stream",
     "text": [
      "4\n",
      "============\n",
      "6\n",
      "============\n",
      "This function isn't testing that. Stop it! Instead try a number that ends in 0.5\n",
      "============\n",
      "This function isn't testing that. Stop it! Instead try a number that ends in 0.5\n",
      "============\n",
      "4\n",
      "6\n"
     ]
    }
   ],
   "source": [
    "# python uses this one\n",
    "def round_to_even(x):\n",
    "    \"\"\" numbers halfway between two integers get rounded to nearest even integer (such as, 4.5 to 4, 5.5 to 6) \"\"\"\n",
    "    # check that it ends halfway (ends in 0.5)\n",
    "    errorMessage = \"This function isn't testing that. Stop it! Instead try a number that ends in 0.5\"\n",
    "    xString = str(x)\n",
    "    lastDigit = int(xString[-1]) \n",
    "    if lastDigit % 5 == 0:\n",
    "        if (x + 0.5) % 2 == 0:\n",
    "            roundedUp = int(0.5 + x)\n",
    "            return roundedUp\n",
    "        elif (x + 1.5) % 2 == 0:    \n",
    "            roundedDown = int(x - 0.5)\n",
    "            return roundedDown\n",
    "        else:\n",
    "            return errorMessage \n",
    "    else:\n",
    "        return errorMessage \n",
    "    \n",
    "\n",
    "print(round_to_even(4.5))\n",
    "print(\"============\")\n",
    "print(round_to_even(5.5))\n",
    "print(\"============\")\n",
    "print(round_to_even(5.6))\n",
    "print(\"============\")\n",
    "print(round_to_even(5.65))\n",
    "print(\"============\")\n",
    "print(round(4.5))\n",
    "print(round(5.5))"
   ]
  },
  {
   "cell_type": "code",
   "execution_count": 493,
   "metadata": {},
   "outputs": [
    {
     "name": "stdout",
     "output_type": "stream",
     "text": [
      "497939965.5 497939994\n",
      "-28.5\n"
     ]
    }
   ],
   "source": [
    "# check for error; round_to_even\n",
    "from random import *\n",
    "\n",
    "L1 = [(randrange(0, 100000)+ 0.5) for i in range(1001)]\n",
    "L1_rounded = [round_to_even(x) for x in L1]\n",
    "print(sum(L1), sum(L1_rounded))\n",
    "print(sum(L1) - sum(L1_rounded))"
   ]
  },
  {
   "cell_type": "markdown",
   "metadata": {},
   "source": [
    "I checked only numbers that ended in 0.5 for this, which is an obvious limitation. The difference in error was fairly small for this test at only |0.5| (rounded_to_even being 0.5 smaller). Definitely can see why this method of rounding would be used."
   ]
  },
  {
   "cell_type": "code",
   "execution_count": 480,
   "metadata": {},
   "outputs": [
    {
     "name": "stdout",
     "output_type": "stream",
     "text": [
      "40\n",
      "============\n",
      "40\n",
      "============\n",
      "3335.6542\n",
      "============\n",
      "35.52135\n",
      "============\n",
      "0.12\n"
     ]
    }
   ],
   "source": [
    "def round_up(x):\n",
    "    \"\"\" numbers ending in a 5 are rounded up \"\"\"\n",
    "    xString = str(x)\n",
    "    # check if x has a decimal, and where it is\n",
    "    digitsAfterDecimal = 0\n",
    "    decimalDigit = 0\n",
    "    decimalDigitFound = False\n",
    "    for digit in range(len(xString)):\n",
    "        if xString[digit] == \".\":\n",
    "            decimalDigit = digit\n",
    "            decimalDigitFound = True\n",
    "        if digit > decimalDigit and decimalDigitFound is True:\n",
    "            digitsAfterDecimal += 1\n",
    "\n",
    "    # get the last digit in x\n",
    "    lastDigit = int(xString[-1])    \n",
    "    # check if last digit is divisible by 5 and not divisible by 10\n",
    "    if (lastDigit) % 5 == 0 and (lastDigit) % 10 != 0:  \n",
    "        # round up to next digit\n",
    "        # print(f\"last digit of {x}, {lastDigit}, is a 5; round x\")\n",
    "        # make x have no decimal, add 5 to round up, then put back the decimal\n",
    "        isolateDigit = x * (10**(digitsAfterDecimal))\n",
    "        roundUp = isolateDigit + 5\n",
    "        putBackRounded = roundUp / (10**(digitsAfterDecimal))\n",
    "#         print(isolateDigit)\n",
    "#         print(roundUp)\n",
    "#         print(putBackRounded)\n",
    "        # if it ends in 0, remove decimal (not necessary?)\n",
    "        if (putBackRounded*10) % 10 == 0:\n",
    "            return int(putBackRounded)\n",
    "        return putBackRounded\n",
    "\n",
    "    else:\n",
    "        # no need to round, x did not end in 5\n",
    "        # print(f\"last digit of {x}, {lastDigit}, is NOT a 5; no rounding x\")\n",
    "        return x\n",
    "\n",
    "# Tests\n",
    "print(round_up(35))\n",
    "print(\"============\")\n",
    "print(round_up(40))\n",
    "print(\"============\")\n",
    "print(round_up(3335.65415))\n",
    "print(\"============\")\n",
    "print(round_up(35.521345))\n",
    "print(\"============\")\n",
    "print(round_up(0.12))\n",
    "\n"
   ]
  },
  {
   "cell_type": "code",
   "execution_count": 524,
   "metadata": {},
   "outputs": [
    {
     "name": "stdout",
     "output_type": "stream",
     "text": [
      "50765198.5 50765699\n",
      "-500.5\n",
      "50296107.19504909 50296107.24509947\n",
      "-0.05005037784576416\n",
      "50505175 50507680\n",
      "-2505\n"
     ]
    }
   ],
   "source": [
    "# check for error; round_up\n",
    "from random import *\n",
    "\n",
    "L1 = [(randrange(0, 100000)+ 0.5) for i in range(1001)]\n",
    "L1_rounded = [round_up(x) for x in L1]\n",
    "print(sum(L1), sum(L1_rounded))\n",
    "print(sum(L1) - sum(L1_rounded))\n",
    "\n",
    "L2 = [(randrange(0, 100000)+ 0.14505) for i in range(1001)]\n",
    "L2_rounded = [round_up(x) for x in L2]\n",
    "print(sum(L2), sum(L2_rounded))\n",
    "print(sum(L2) - sum(L2_rounded))\n",
    "\n",
    "L3 = [randrange(0, 100000, 5) for i in range(1001)]\n",
    "L3_rounded = [round_up(x) for x in L3]\n",
    "print(sum(L3), sum(L3_rounded))\n",
    "print(sum(L3) - sum(L3_rounded))"
   ]
  },
  {
   "cell_type": "markdown",
   "metadata": {},
   "source": [
    "Seems like something doesn't round 100% correctly when rounding up from 5, especially in endings with 0.05.\n",
    "When looking at the first test (ending in 0.5), round_up definitely over estimates (difference of |500.5|). It's not bad, but it \n",
    "looks like the difference in error scales much more than the banker's rounding method."
   ]
  },
  {
   "cell_type": "markdown",
   "metadata": {},
   "source": [
    "## Section 1.1: Synthetic Division / Horner's algorithm"
   ]
  },
  {
   "cell_type": "markdown",
   "metadata": {},
   "source": [
    "**Programming exercise:** Implement Horner's algorithm, which is shown in pseudocode on Pages 7 and 8, as a python function.  The arguments should be x (a number where you'd like to evaluate the polynomial p), and a (a list of the coefficients of p).  You can start like this:"
   ]
  },
  {
   "cell_type": "code",
   "execution_count": 530,
   "metadata": {},
   "outputs": [
    {
     "data": {
      "text/plain": [
       "([1, -1, 4, 7], 19)"
      ]
     },
     "execution_count": 530,
     "metadata": {},
     "output_type": "execute_result"
    }
   ],
   "source": [
    "def horner(x, a):\n",
    "    n = len(a)-1\n",
    "    rb = [a[-1]]\n",
    "    b = [a[-1]]\n",
    "    # ... continue.  You can now use a[0], ..., a[n] for the coefficients of p.\n",
    "    for i in range(n-1, -1, -1):\n",
    "        rb.append(a[i] + x*b[-1])\n",
    "        b.append(rb[-1])\n",
    "    r = b.pop() # pop p(x) off the list\n",
    "    return (b, r)\n",
    "\n",
    "horner(3, [-2,-5,7,-4,1])"
   ]
  },
  {
   "cell_type": "markdown",
   "metadata": {},
   "source": [
    "Have the function return (b,r), where b is a list of the numbers b[0],...,b[n-1] (see equation (4)) and r is p(x).\n",
    "\n",
    "When you're done, you should be able to do Example 4 like this:"
   ]
  },
  {
   "cell_type": "code",
   "execution_count": 135,
   "metadata": {},
   "outputs": [],
   "source": [
    "horner(3, [-2,-5,7,-4,1]) # the result should be ([7,4,-1,1], 19)"
   ]
  },
  {
   "cell_type": "markdown",
   "metadata": {},
   "source": [
    "**Writing exercise:** It's pretty clear why Horner's algorithm computes the remainder $r$.  But why on earth does it compute the polynomial $q$?  That is, explain why $p(t) = (t-x)q(t) + r$, where $t$ is a variable and $p,q,x,r$ are as in the text.  The answer to this is probably also in the text, but I would like you to explain it in your own words."
   ]
  },
  {
   "cell_type": "markdown",
   "metadata": {},
   "source": [
    "We are removing a linear factor from a polynomial. In the case of the example, we are dividing p(t) = t<sup>4</sup> - 4t<sup>3</sup> + 7t<sup>2</sup> - 5t - 2 by (t-3), which should give us a quotient polynomial $q(t)$ and a remainder $r$. In short, this format of $p(t) = (t-x)q(t) + r$ follows the remainder theorem, which is why it would give us polynomial $q$."
   ]
  },
  {
   "cell_type": "markdown",
   "metadata": {},
   "source": [
    "## Section 1.1: Derivatives are awful"
   ]
  },
  {
   "cell_type": "markdown",
   "metadata": {},
   "source": [
    "**programming exercise:** Implement the pseudocode listed on Page 10 (the program called \"first\");  See also computer problems 1.1 and 1.2 in the text.\n",
    "\n",
    "**writing exercise:** What's going wrong here?  Why is it hard to compute derivatives numerically?"
   ]
  },
  {
   "cell_type": "code",
   "execution_count": 215,
   "metadata": {},
   "outputs": [
    {
     "name": "stdout",
     "output_type": "stream",
     "text": [
      "i: 1\n",
      "h: 0.25\n",
      "y: 0.8088528856765245\n",
      "error: 0.06872967621384829\n",
      "i: 2\n",
      "h: 0.0625\n",
      "y: 0.8620341589090739\n",
      "error: 0.015548402981298892\n",
      "i: 3\n",
      "h: 0.015625\n",
      "y: 0.873801417582083\n",
      "error: 0.0037811443082897966\n",
      "i: 4\n",
      "h: 0.00390625\n",
      "y: 0.8766439532697916\n",
      "error: 0.0009386086205811495\n",
      "i: 5\n",
      "h: 0.0009765625\n",
      "y: 0.8773483279197194\n",
      "error: 0.0002342339706533636\n",
      "i: 6\n",
      "h: 0.000244140625\n",
      "y: 0.8775240295472031\n",
      "error: 5.8532343169659384e-05\n",
      "i: 7\n",
      "h: 6.103515625e-05\n",
      "y: 0.8775679304389996\n",
      "error: 1.4631451373148252e-05\n",
      "i: 8\n",
      "h: 1.52587890625e-05\n",
      "y: 0.8775789041283133\n",
      "error: 3.6577620594613336e-06\n",
      "i: 9\n",
      "h: 3.814697265625e-06\n",
      "y: 0.8775816474517342\n",
      "error: 9.144386385884218e-07\n",
      "i: 10\n",
      "h: 9.5367431640625e-07\n",
      "y: 0.8775823332834989\n",
      "error: 2.2860687387549206e-07\n",
      "i: 11\n",
      "h: 2.384185791015625e-07\n",
      "y: 0.8775825046468526\n",
      "error: 5.724352014624401e-08\n",
      "i: 12\n",
      "h: 5.960464477539063e-08\n",
      "y: 0.8775825472548604\n",
      "error: 1.4635512357585867e-08\n",
      "i: 13\n",
      "h: 1.4901161193847656e-08\n",
      "y: 0.8775825574994087\n",
      "error: 4.390964036815603e-09\n",
      "i: 14\n",
      "h: 3.725290298461914e-09\n",
      "y: 0.8775825649499893\n",
      "error: 3.059616560108225e-09\n",
      "i: 15\n",
      "h: 9.313225746154785e-10\n",
      "y: 0.8775825500488281\n",
      "error: 1.1841544633739431e-08\n",
      "i: 16\n",
      "h: 2.3283064365386963e-10\n",
      "y: 0.8775825500488281\n",
      "error: 1.1841544633739431e-08\n",
      "i: 17\n",
      "h: 5.820766091346741e-11\n",
      "y: 0.8775825500488281\n",
      "error: 1.1841544633739431e-08\n",
      "i: 18\n",
      "h: 1.4551915228366852e-11\n",
      "y: 0.8775825500488281\n",
      "error: 1.1841544633739431e-08\n",
      "i: 19\n",
      "h: 3.637978807091713e-12\n",
      "y: 0.8775787353515625\n",
      "error: 3.8265388102587394e-06\n",
      "i: 20\n",
      "h: 9.094947017729282e-13\n",
      "y: 0.8775634765625\n",
      "error: 1.908532787275874e-05\n",
      "i: 21\n",
      "h: 2.2737367544323206e-13\n",
      "y: 0.87744140625\n",
      "error: 0.00014115564037275874\n",
      "i: 22\n",
      "h: 5.684341886080802e-14\n",
      "y: 0.8779296875\n",
      "error: 0.00034712560962724126\n",
      "i: 23\n",
      "h: 1.4210854715202004e-14\n",
      "y: 0.87890625\n",
      "error: 0.0013236881096272413\n",
      "i: 24\n",
      "h: 3.552713678800501e-15\n",
      "y: 0.875\n",
      "error: 0.0025825618903727587\n",
      "i: 25\n",
      "h: 8.881784197001252e-16\n",
      "y: 0.875\n",
      "error: 0.0025825618903727587\n",
      "i: 26\n",
      "h: 2.220446049250313e-16\n",
      "y: 0.75\n",
      "error: 0.12758256189037276\n",
      "i: 27\n",
      "h: 5.551115123125783e-17\n",
      "y: 0.0\n",
      "error: 0.8775825618903728\n",
      "i: 28\n",
      "h: 1.3877787807814457e-17\n",
      "y: 0.0\n",
      "error: 0.8775825618903728\n",
      "i: 29\n",
      "h: 3.469446951953614e-18\n",
      "y: 0.0\n",
      "error: 0.8775825618903728\n",
      "i: 30\n",
      "h: 8.673617379884035e-19\n",
      "y: 0.0\n",
      "error: 0.8775825618903728\n",
      "\n",
      "imax = 27\n",
      "emax = 0.8775825618903728\n"
     ]
    }
   ],
   "source": [
    "from math import *\n",
    "\n",
    "def first(x):\n",
    "    n = 30\n",
    "    h = 1\n",
    "    emax = 0\n",
    "    for i in range(1, n+1):\n",
    "        h = 0.25*h\n",
    "        y = (sin(x + h) - sin(x)) / h\n",
    "        error = abs(cos(x) - y)\n",
    "        print(f\"i: {i}\")\n",
    "        print(f\"h: {h}\")\n",
    "        print(f\"y: {y}\")\n",
    "        print(f\"error: {error}\")\n",
    "        if error > emax:\n",
    "            emax = error\n",
    "            imax = i\n",
    "    \n",
    "    print(\"\")\n",
    "    print(f\"imax = {imax}\")\n",
    "    print(f\"emax = {emax}\")\n",
    "    return\n",
    "\n",
    "first(0.5)"
   ]
  },
  {
   "cell_type": "markdown",
   "metadata": {},
   "source": [
    "As i gets larger, h becomes increasingly smaller, and eventually the error becomes larger. Y ends up being zero. Having such a large error does not bode well for computing derivatives numerically. "
   ]
  },
  {
   "cell_type": "code",
   "execution_count": 580,
   "metadata": {},
   "outputs": [
    {
     "name": "stdout",
     "output_type": "stream",
     "text": [
      "i: 1\n",
      "h: 0.25\n",
      "y: -0.989615837018092\n",
      "error: 0.0103841629819084\n",
      "i: 2\n",
      "h: 0.0625\n",
      "y: -0.999349085478083\n",
      "error: 0.000650914521916790\n",
      "i: 3\n",
      "h: 0.015625\n",
      "y: -0.999959310392536\n",
      "error: 0.0000406896074641727\n",
      "i: 4\n",
      "h: 0.00390625\n",
      "y: -0.999997456870430\n",
      "error: 0.00000254312957015390\n",
      "i: 5\n",
      "h: 0.0009765625\n",
      "y: -0.999999841054288\n",
      "error: 1.58945711814518E-7\n",
      "i: 6\n",
      "h: 0.000244140625\n",
      "y: -0.999999990065893\n",
      "error: 9.93410742555767E-9\n",
      "i: 7\n",
      "h: 6.103515625e-05\n",
      "y: -0.999999999379118\n",
      "error: 6.20881679402885E-10\n",
      "i: 8\n",
      "h: 1.52587890625e-05\n",
      "y: -0.999999999961195\n",
      "error: 3.88051812905132E-11\n",
      "i: 9\n",
      "h: 3.814697265625e-06\n",
      "y: -0.999999999997575\n",
      "error: 2.42528219729365E-12\n",
      "i: 10\n",
      "h: 9.5367431640625e-07\n",
      "y: -0.999999999999848\n",
      "error: 1.51656465163796E-13\n",
      "i: 11\n",
      "h: 2.384185791015625e-07\n",
      "y: -0.999999999999991\n",
      "error: 9.43689570931383E-15\n",
      "i: 12\n",
      "h: 5.960464477539063e-08\n",
      "y: -0.999999999999999\n",
      "error: 5.55111512312578E-16\n",
      "i: 13\n",
      "h: 1.4901161193847656e-08\n",
      "y: -1.00000000000000\n",
      "error: 0\n",
      "i: 14\n",
      "h: 3.725290298461914e-09\n",
      "y: -1.00000000000000\n",
      "error: 0\n",
      "i: 15\n",
      "h: 9.313225746154785e-10\n",
      "y: -1.00000000000000\n",
      "error: 0\n",
      "i: 16\n",
      "h: 2.3283064365386963e-10\n",
      "y: -1.00000000000000\n",
      "error: 0\n",
      "i: 17\n",
      "h: 5.820766091346741e-11\n",
      "y: -1.00000000000000\n",
      "error: 0\n",
      "i: 18\n",
      "h: 1.4551915228366852e-11\n",
      "y: -1.00000000000000\n",
      "error: 0\n",
      "i: 19\n",
      "h: 3.637978807091713e-12\n",
      "y: -1.00000000000000\n",
      "error: 0\n",
      "i: 20\n",
      "h: 9.094947017729282e-13\n",
      "y: -1.00000000000000\n",
      "error: 0\n",
      "i: 21\n",
      "h: 2.2737367544323206e-13\n",
      "y: -1.00000000000000\n",
      "error: 0\n",
      "i: 22\n",
      "h: 5.684341886080802e-14\n",
      "y: -1.00000000000000\n",
      "error: 0\n",
      "i: 23\n",
      "h: 1.4210854715202004e-14\n",
      "y: -1.00000000000000\n",
      "error: 0\n",
      "i: 24\n",
      "h: 3.552713678800501e-15\n",
      "y: -1.00000000000000\n",
      "error: 0\n",
      "i: 25\n",
      "h: 8.881784197001252e-16\n",
      "y: -1.00000000000000\n",
      "error: 0\n",
      "i: 26\n",
      "h: 2.220446049250313e-16\n",
      "y: 0\n",
      "error: 1.00000000000000\n",
      "i: 27\n",
      "h: 5.551115123125783e-17\n",
      "y: 0\n",
      "error: 1.00000000000000\n",
      "i: 28\n",
      "h: 1.3877787807814457e-17\n",
      "y: 0\n",
      "error: 1.00000000000000\n",
      "i: 29\n",
      "h: 3.469446951953614e-18\n",
      "y: 0\n",
      "error: 1.00000000000000\n",
      "i: 30\n",
      "h: 8.673617379884035e-19\n",
      "y: 0\n",
      "error: 1.00000000000000\n",
      "\n",
      "imax = 26\n",
      "emax = 1.00000000000000\n"
     ]
    }
   ],
   "source": [
    "# did f(x) = cos(x) at point x = pi\n",
    "def second(x):\n",
    "    n = 30\n",
    "    h = 1\n",
    "    emax = 0\n",
    "    for i in range(1, n+1):\n",
    "        h = 0.25*h\n",
    "        y = (cos(x+h)-cos(x)) / h\n",
    "        error = abs(-sin(x)-y)\n",
    "        print(f\"i: {i}\")\n",
    "        print(f\"h: {h}\")\n",
    "        print(f\"y: {y}\")\n",
    "        print(f\"error: {error}\")\n",
    "        if error > emax:\n",
    "            emax = error\n",
    "            imax = i\n",
    "            \n",
    "    print(\"\")\n",
    "    print(f\"imax = {imax}\")\n",
    "    print(f\"emax = {emax}\")\n",
    "    return\n",
    "\n",
    "first(pi)"
   ]
  },
  {
   "cell_type": "markdown",
   "metadata": {},
   "source": [
    "y hits -1, then eventually becomes 0. The error was at 0 for a while, which is interesting, but then became 1 (which makes sense given the calculation)."
   ]
  },
  {
   "cell_type": "markdown",
   "metadata": {},
   "source": [
    "## Section 1.2: Plotting some Taylor polynomials\n",
    "\n",
    "**programming exercise** If we expand the function $f(x) = \\sin(x)$ in the (well-known) Taylor series around the point $x=0$, we get\n",
    "$$\n",
    "1 - \\frac{x^3}{3!} + \\frac{x^5}{5!} - \\frac{x^7}{7!} + \\ldots\n",
    "$$\n",
    "and if we truncate this at the $x^{2n+1}$ term, we get the order-$(2n+1)$ Taylor polynomial for $\\sin x$.  \n",
    "\n",
    "Make a plot that shows the order-3, order-13, and order-19 taylor polynomials.  Here's how to make plots (in all honesty, I mostly copy-pasted the code from a google search, and you should do the same):"
   ]
  },
  {
   "cell_type": "code",
   "execution_count": 6,
   "metadata": {},
   "outputs": [
    {
     "data": {
      "image/png": "[encoded data removed]",
      "text/plain": [
       "<Figure size 432x288 with 1 Axes>"
      ]
     },
     "metadata": {
      "needs_background": "light"
     },
     "output_type": "display_data"
    }
   ],
   "source": [
    "import matplotlib.pyplot as plt\n",
    "import numpy as np\n",
    "pi = np.pi\n",
    "\n",
    "# 100 linearly spaced numbers\n",
    "x = np.linspace(-4*pi,4*pi, 100)\n",
    "\n",
    "# the function, which is y = x^2 here\n",
    "y = np.sin(x)\n",
    "\n",
    "# setting the axes at the centre\n",
    "fig = plt.figure()\n",
    "ax = fig.add_subplot(1, 1, 1)\n",
    "ax.spines['left'].set_position('center')\n",
    "ax.spines['bottom'].set_position('zero')\n",
    "ax.spines['right'].set_color('none')\n",
    "ax.spines['top'].set_color('none')\n",
    "ax.xaxis.set_ticks_position('bottom')\n",
    "ax.yaxis.set_ticks_position('left')\n",
    "\n",
    "# plot the function\n",
    "plt.plot(x,y, 'r')\n",
    "\n",
    "# show the plot\n",
    "plt.show()"
   ]
  },
  {
   "cell_type": "code",
   "execution_count": 615,
   "metadata": {},
   "outputs": [
    {
     "data": {
      "image/png": "[encoded data removed]",
      "text/plain": [
       "<Figure size 432x288 with 1 Axes>"
      ]
     },
     "metadata": {},
     "output_type": "display_data"
    }
   ],
   "source": [
    "import matplotlib.pyplot as plt\n",
    "import numpy as np\n",
    "import math\n",
    "pi = np.pi\n",
    "\n",
    "# 100 linearly spaced numbers\n",
    "x = np.linspace(-6,6, 100)\n",
    "\n",
    "# the function\n",
    "# yes, I manually typed them out :/\n",
    "y1 = x - (x**3)/math.factorial(3)\n",
    "y2 = x - (x**3)/math.factorial(3) + (x**5)/math.factorial(5) - (x**7)/math.factorial(7) + (x**9)/math.factorial(9) - (x**11)/math.factorial(11) + (x**13)/math.factorial(13)\n",
    "y3 = x - (x**3)/math.factorial(3) + (x**5)/math.factorial(5) - (x**7)/math.factorial(7) + (x**9)/math.factorial(9) - (x**11)/math.factorial(11) + (x**13)/math.factorial(13) - (x**14)/math.factorial(14) + (x**15)/math.factorial(15) - (x**16)/math.factorial(16) + (x**17)/math.factorial(17) - (x**18)/math.factorial(18) + (x**19)/math.factorial(19)\n",
    "\n",
    "# setting the axes at the centre\n",
    "fig = plt.figure()\n",
    "ax = fig.add_subplot(1, 1, 1)\n",
    "ax.spines['left'].set_position('center')\n",
    "ax.spines['bottom'].set_position('zero')\n",
    "ax.spines['right'].set_color('none')\n",
    "ax.spines['top'].set_color('none')\n",
    "ax.xaxis.set_ticks_position('bottom')\n",
    "ax.yaxis.set_ticks_position('left')\n",
    "\n",
    "# plot the function\n",
    "plt.plot(x,y1, 'b', label='order 3') # order 3\n",
    "plt.plot(x,y2, 'g', label='order 13') # order 13\n",
    "plt.plot(x,y3, 'r', label='order 19') # order 19\n",
    "plt.legend()\n",
    "plt.title('Taylor series approximation')\n",
    "plt.ylim([-5,5])\n",
    "\n",
    "\n",
    "# show the plot\n",
    "plt.show()"
   ]
  },
  {
   "cell_type": "markdown",
   "metadata": {},
   "source": [
    "Not sure that my graphs are displaying the functions the best... but this is the best I could do."
   ]
  },
  {
   "cell_type": "markdown",
   "metadata": {},
   "source": [
    "## Section 1.2: Your scientists were so preoccupied with whether or not they could, they didn't stop to think if they should"
   ]
  },
  {
   "cell_type": "markdown",
   "metadata": {},
   "source": [
    "**programming exercise** Section 1.2, example 9 (on page 29) asserts that we can compute $\\ln 2$ pretty accurately by summing up a million terms of a certain series.  I bet that's not nearly as bad as the textbook says it is, computers do a million computations pretty quickly these days!  See if you can do it.  \n",
    "\n",
    "Actually, maybe start by verifying the computation of Examples 8 and 10, each of which involves way less than a million things.\n",
    "\n",
    "**writing exercise** Document what you learned.  Making a computer do a big computation is always fascinating, and you might need to use some ingenuity to actually get it to happen.  If your naive code is going too slow, make the problem a little simpler, so that your naive code works, and then try and speed it up.\n"
   ]
  },
  {
   "cell_type": "code",
   "execution_count": 250,
   "metadata": {},
   "outputs": [
    {
     "name": "stdout",
     "output_type": "stream",
     "text": [
      "0.8414709848078965\n"
     ]
    }
   ],
   "source": [
    "# example 8\n",
    "from math import *\n",
    "def sin1(n):\n",
    "    # n being number of terms used\n",
    "    seriesSum = 0\n",
    "    for i in range(n+1):\n",
    "        term = (((-1)**(i))/factorial(2*i+1))\n",
    "        seriesSum += term\n",
    "    return seriesSum\n",
    "\n",
    "print(sin1(20))"
   ]
  },
  {
   "cell_type": "code",
   "execution_count": 254,
   "metadata": {},
   "outputs": [
    {
     "name": "stdout",
     "output_type": "stream",
     "text": [
      "1.082322752848305\n"
     ]
    }
   ],
   "source": [
    "# example 10\n",
    "def piToThe4thDividedBy90(n):\n",
    "    # n being number of terms used\n",
    "    seriesSum = 0\n",
    "    for i in range(1, n+1):\n",
    "        term = i**(-4)\n",
    "        seriesSum += term\n",
    "    return seriesSum\n",
    "\n",
    "print(piToThe4thDividedBy90(88))"
   ]
  },
  {
   "cell_type": "code",
   "execution_count": 249,
   "metadata": {},
   "outputs": [
    {
     "name": "stdout",
     "output_type": "stream",
     "text": [
      "0.6931469305601015\n"
     ]
    }
   ],
   "source": [
    "# ln(1+x) for ln2\n",
    "\n",
    "# def ln1plusx(x, n):\n",
    "#     # n being number of terms used\n",
    "#     seriesSum = 0\n",
    "#     for i in range(1, n+1):\n",
    "#         term = (((-1)**(i+1))/i) * (x**i)\n",
    "#         seriesSum += term\n",
    "#     return seriesSum\n",
    "        \n",
    "# print(ln1plusx(1,2000000))\n",
    "\n",
    "#ln2\n",
    "def ln2(n):\n",
    "    # n being number of terms used\n",
    "    seriesSum = 0\n",
    "    for i in range(1,n+1):\n",
    "        term = (((-1)**(i+1))/i)\n",
    "        seriesSum += term\n",
    "    return seriesSum\n",
    "        \n",
    "print(ln2(2000000))"
   ]
  },
  {
   "cell_type": "markdown",
   "metadata": {},
   "source": [
    "Computers are way faster than me at calculating these answers using Taylor series!"
   ]
  },
  {
   "cell_type": "code",
   "execution_count": null,
   "metadata": {},
   "outputs": [],
   "source": []
  }
 ],
 "metadata": {
  "kernelspec": {
   "display_name": "Python 3",
   "language": "python",
   "name": "python3"
  },
  "language_info": {
   "codemirror_mode": {
    "name": "ipython",
    "version": 3
   },
   "file_extension": ".py",
   "mimetype": "text/x-python",
   "name": "python",
   "nbconvert_exporter": "python",
   "pygments_lexer": "ipython3",
   "version": "3.8.5"
  }
 },
 "nbformat": 4,
 "nbformat_minor": 4
}
