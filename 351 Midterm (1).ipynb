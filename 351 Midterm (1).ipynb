{
 "cells": [
  {
   "cell_type": "markdown",
   "metadata": {},
   "source": [
    "# 351 Midterm\n",
    "### Kaetlyn Gibson\n",
    "\n",
    "---"
   ]
  },
  {
   "cell_type": "markdown",
   "metadata": {},
   "source": [
    "# Computer Problems"
   ]
  },
  {
   "cell_type": "markdown",
   "metadata": {},
   "source": [
    "### Problem 1\n",
    "Consider the approximation\n",
    "\n",
    "\\begin{align}\n",
    "\\frac{d}{dx}tan x ≈\\frac{tan(x + h)−tan(x)}{h}\n",
    "\\end{align}\n",
    "\n",
    "where *h = 2<sup>−n</sup>* and *n* is a positive integer. If we’re using floating point arithmetic,\n",
    "find (approximately) the value of *n* for which this approximation works well for values\n",
    "of *x* in the interval *[−π/4, π/4]*. (If *h* is too small, there’s loss of significance in the\n",
    "computation, whereas if *h* is too big, the approximation is just bad.)\n"
   ]
  },
  {
   "cell_type": "code",
   "execution_count": 437,
   "metadata": {},
   "outputs": [
    {
     "name": "stdout",
     "output_type": "stream",
     "text": [
      "testing n=100 among some interval values\n",
      "==>interval value = -0.7853981633974483\n",
      "====> error abs(derivative of tanx - approximation): 1.9999999999999996\n",
      "==>interval value = -0.5235987755982988\n",
      "====> error abs(derivative of tanx - approximation): 1.3333333333333333\n",
      "==>interval value = -0.1\n",
      "====> error abs(derivative of tanx - approximation): 1.0100670464224946\n",
      "==>interval value = 0.1\n",
      "====> error abs(derivative of tanx - approximation): 1.0100670464224946\n",
      "==>interval value = 0.5235987755982988\n",
      "====> error abs(derivative of tanx - approximation): 1.3333333333333333\n",
      "==>interval value = -0.7853981633974483\n",
      "====> error abs(derivative of tanx - approximation): 1.9999999999999996\n",
      "\n",
      "testing n=50 among some interval values\n",
      "==>interval value = -0.7853981633974483\n",
      "====> error abs(derivative of tanx - approximation): 4.440892098500626e-16\n",
      "==>interval value = -0.5235987755982988\n",
      "====> error abs(derivative of tanx - approximation): 0.04166666666666674\n",
      "==>interval value = -0.1\n",
      "====> error abs(derivative of tanx - approximation): 0.005557953577505437\n",
      "==>interval value = 0.1\n",
      "====> error abs(derivative of tanx - approximation): 0.005557953577505437\n",
      "==>interval value = 0.5235987755982988\n",
      "====> error abs(derivative of tanx - approximation): 0.08333333333333326\n",
      "==>interval value = -0.7853981633974483\n",
      "====> error abs(derivative of tanx - approximation): 4.440892098500626e-16\n",
      "\n",
      "testing n=31 among some interval values\n",
      "==>interval value = -0.7853981633974483\n",
      "====> error abs(derivative of tanx - approximation): 4.440892098500626e-16\n",
      "==>interval value = -0.5235987755982988\n",
      "====> error abs(derivative of tanx - approximation): 1.5894571947505653e-07\n",
      "==>interval value = -0.1\n",
      "====> error abs(derivative of tanx - approximation): 7.338654128830058e-10\n",
      "==>interval value = 0.1\n",
      "====> error abs(derivative of tanx - approximation): 7.338654128830058e-10\n",
      "==>interval value = 0.5235987755982988\n",
      "====> error abs(derivative of tanx - approximation): 7.947285962650597e-08\n",
      "==>interval value = -0.7853981633974483\n",
      "====> error abs(derivative of tanx - approximation): 4.440892098500626e-16\n",
      "\n",
      "testing n=30 among some interval values\n",
      "==>interval value = -0.7853981633974483\n",
      "====> error abs(derivative of tanx - approximation): 4.440892098500626e-16\n",
      "==>interval value = -0.5235987755982988\n",
      "====> error abs(derivative of tanx - approximation): 3.9736429924275285e-08\n",
      "==>interval value = -0.1\n",
      "====> error abs(derivative of tanx - approximation): 7.338654128830058e-10\n",
      "==>interval value = 0.1\n",
      "====> error abs(derivative of tanx - approximation): 7.338654128830058e-10\n",
      "==>interval value = 0.5235987755982988\n",
      "====> error abs(derivative of tanx - approximation): 7.947285962650597e-08\n",
      "==>interval value = -0.7853981633974483\n",
      "====> error abs(derivative of tanx - approximation): 4.440892098500626e-16\n",
      "\n",
      "testing n=29 among some interval values\n",
      "==>interval value = -0.7853981633974483\n",
      "====> error abs(derivative of tanx - approximation): 5.9604644331301415e-08\n",
      "==>interval value = -0.5235987755982988\n",
      "====> error abs(derivative of tanx - approximation): 3.9736429924275285e-08\n",
      "==>interval value = -0.1\n",
      "====> error abs(derivative of tanx - approximation): 7.338654128830058e-10\n",
      "==>interval value = 0.1\n",
      "====> error abs(derivative of tanx - approximation): 7.338654128830058e-10\n",
      "==>interval value = 0.5235987755982988\n",
      "====> error abs(derivative of tanx - approximation): 1.986821485111534e-08\n",
      "==>interval value = -0.7853981633974483\n",
      "====> error abs(derivative of tanx - approximation): 5.9604644331301415e-08\n",
      "\n",
      "testing n=25 among some interval values\n",
      "==>interval value = -0.7853981633974483\n",
      "====> error abs(derivative of tanx - approximation): 5.9604644331301415e-08\n",
      "==>interval value = -0.5235987755982988\n",
      "====> error abs(derivative of tanx - approximation): 1.986821485111534e-08\n",
      "==>interval value = -0.1\n",
      "====> error abs(derivative of tanx - approximation): 3.062171849421702e-09\n",
      "==>interval value = 0.1\n",
      "====> error abs(derivative of tanx - approximation): 2.9914248855789083e-09\n",
      "==>interval value = 0.5235987755982988\n",
      "====> error abs(derivative of tanx - approximation): 2.1109978431965715e-08\n",
      "==>interval value = -0.7853981633974483\n",
      "====> error abs(derivative of tanx - approximation): 5.9604644331301415e-08\n",
      "\n",
      "testing n=1 among some interval values\n",
      "==>interval value = -0.7853981633974483\n",
      "====> error abs(derivative of tanx - approximation): 0.5868159860520463\n",
      "==>interval value = -0.5235987755982988\n",
      "====> error abs(derivative of tanx - approximation): 0.22583910957635167\n",
      "==>interval value = -0.1\n",
      "====> error abs(derivative of tanx - approximation): 0.036188735224730095\n",
      "==>interval value = 0.1\n",
      "====> error abs(derivative of tanx - approximation): 0.157537226089989\n",
      "==>interval value = 0.5235987755982988\n",
      "====> error abs(derivative of tanx - approximation): 0.7946588205186729\n",
      "==>interval value = -0.7853981633974483\n",
      "====> error abs(derivative of tanx - approximation): 0.5868159860520463\n",
      "\n",
      "testing n=0 among some interval values\n",
      "==>interval value = -0.7853981633974483\n",
      "====> error abs(derivative of tanx - approximation): 0.7820419015391376\n",
      "==>interval value = -0.5235987755982988\n",
      "====> error abs(derivative of tanx - approximation): 0.23993785774465892\n",
      "==>interval value = -0.1\n",
      "====> error abs(derivative of tanx - approximation): 0.3504258432132952\n",
      "==>interval value = 0.1\n",
      "====> error abs(derivative of tanx - approximation): 0.8543579387407072\n",
      "==>interval value = 0.5235987755982988\n",
      "====> error abs(derivative of tanx - approximation): 19.26112146131585\n",
      "==>interval value = -0.7853981633974483\n",
      "====> error abs(derivative of tanx - approximation): 0.7820419015391376\n",
      "\n"
     ]
    }
   ],
   "source": [
    "from numpy import *\n",
    "\n",
    "def p1(n, x):\n",
    "    h = 2**(-n)\n",
    "    approx = (tan(x+h)-tan(x))/h\n",
    "    actual = (1/cos(x))**2 # sec^2(x) = 1\n",
    "    errorCheck = abs(actual-approx)\n",
    "    return errorCheck\n",
    "    \n",
    "def testValues(potentialNs, intervalValues):\n",
    "    for n in potentialNs:\n",
    "        print(f\"testing n={n} among some interval values\")\n",
    "        for val in intervalValues:\n",
    "            print(f\"==>interval value = {val}\")\n",
    "            result = p1(n, val)\n",
    "            print(f\"====> error abs(derivative of tanx - approximation): {result}\")\n",
    "        print(\"\")\n",
    "\n",
    "potentialNs = [100, 50, 31, 30, 29, 25, 1, 0]\n",
    "intervalValues = [(-pi)/4,(-pi/6), -0.1, 0.1, (pi/6), (-pi)/4]\n",
    "\n",
    "testValues(potentialNs, intervalValues)"
   ]
  },
  {
   "cell_type": "markdown",
   "metadata": {},
   "source": [
    "My thinking: calculate the approximation for the derivative of tan(x) given above and compare it to the derivative of tan(x), sec<sup>2</sup>(x) (by using 1/cos<sup>2</sup>(x) since there isn't sec in numpy, and sec(x) = 1/cos(x)). I then calculate error by subtracting the approximation from the \"actual\" value. I do this for multiple values of n and for multiple values x in the given interval *[−π/4, π/4]*."
   ]
  },
  {
   "cell_type": "markdown",
   "metadata": {},
   "source": [
    "My results: based on some testing(above), n=30 works very well for values of x in the interval *[−π/4, π/4]*, as the error is quite small for all x values tested compared to other n values. "
   ]
  },
  {
   "cell_type": "markdown",
   "metadata": {},
   "source": [
    "### Problem 2 (Ignore; I don't think I did this right, but I'll leave it in case you might have some input on if I'm even on the right track.)\n",
    "Consider the function \n",
    "\\begin{align}\n",
    "f(x) =\n",
    "x^7 + 105x^6 + 4725x^5 + 118125x^4 + 1771875x^3 + 15946875x^2 + 79734374x + 170859367.\n",
    "\\end{align}\n",
    "\n",
    "There’s a particularly nice value *c* for which the Taylor series for *f* centered at the\n",
    "point *x = c* has only three nonzero coefficients. What is this *c*?\n"
   ]
  },
  {
   "cell_type": "code",
   "execution_count": 187,
   "metadata": {},
   "outputs": [
    {
     "data": {
      "text/plain": [
       "[127.99999986538636,\n",
       " 6719.999987182441,\n",
       " 151199.9994824691,\n",
       " 1889999.9885432099,\n",
       " 14174999.85037037,\n",
       " 63787498.85333333,\n",
       " 159468745.26666668,\n",
       " 170859367]"
      ]
     },
     "execution_count": 187,
     "metadata": {},
     "output_type": "execute_result"
    }
   ],
   "source": [
    "#complete horners\n",
    "def horner(x, a, popped):\n",
    "    n = len(a)-1\n",
    "    rb = [a[-1]]\n",
    "    b = [a[-1]]\n",
    "    # ... continue.  You can now use a[0], ..., a[n] for the coefficients of p.\n",
    "    for i in range(n-1, -1, -1):\n",
    "        rb.append(a[i] + x*b[-1])\n",
    "        b.append(rb[-1])\n",
    "    r = b.pop()\n",
    "    popped.append(r) # pop p(x) off the list\n",
    "    return (b, popped)\n",
    "\n",
    "def repeat(x, a, popped):\n",
    "    result = horner(x, a, popped)\n",
    "    while len(result[0]) > 0: # while still stuff to pop\n",
    "        newA = result[0][::-1] # reverse this since output of horner function is in reverse of input\n",
    "        newPopped = result[1] # keep track of popped\n",
    "        result = horner(x, newA, newPopped) # call again with new values\n",
    "    return result[1] \n",
    "    \n",
    "def testValues(a):\n",
    "    for i in range(-100000, 100000):\n",
    "        count = 0\n",
    "        result = repeat(i, a, [])\n",
    "        # if there is a nonzero coefficient, count it\n",
    "        for coeff in result:\n",
    "            if coeff != 0:\n",
    "                count += 1\n",
    "        # if there are 3 nonzero coefficients, we found the right c (doesn't print otherwise)\n",
    "        if count == 3:\n",
    "            print(result)\n",
    "            print(i)\n",
    "\n",
    "    \n",
    "def testValuesFrac(a):\n",
    "    for i in range(-1000, 1000):\n",
    "        count = 0\n",
    "        if i != 0:\n",
    "            result = repeat(1/i, a, [])\n",
    "            # if there is a nonzero coefficient, count it\n",
    "            for coeff in result:\n",
    "                if coeff != 0:\n",
    "                    count += 1\n",
    "            # if there are 3 nonzero coefficients, we found the right c (doesn't print otherwise)\n",
    "            if count == 3:\n",
    "                print(result)\n",
    "                print(i)\n",
    "\n",
    "# check example 3 in textbook on page 22.     \n",
    "# repeat(2, [-5, -12, 13, 15, -2, 3],[]) \n",
    "# Question: What is the Taylor series of the function f (x) = 3x^5 − 2x^4 + 15x^3 + 13x^2 − 12x − 5 at the point c = 2?\n",
    "# Answer: f(x) = 207 + 396(x − 2) + 295(x − 2)^2 + 119(x − 2)^3 + 28(x − 2)^4 + 3(x − 2)^5\n",
    "# My result: [207, 396, 295, 119, 28, 3]\n",
    "# Looks like it works!...\n",
    "\n",
    "\n",
    "repeat((1/15), [1,105,4725,118125,1771875,15946875,79734374,170859367],[])\n",
    "# repeat((15), [1,105,4725,118125,1771875,15946875,79734374,170859367],[])\n",
    "# testValues([1,105,4725,118125,1771875,15946875,79734374,170859367])\n",
    "# testValuesFrac([1,105,4725,118125,1771875,15946875,79734374,170859367])"
   ]
  },
  {
   "cell_type": "markdown",
   "metadata": {},
   "source": [
    "My thinking: I have a couple of functions that perform the complete Horner's algorithm. I can use this to get the coefficients of the Taylor series of f(x) centered at x=c. I can then test values of c until there are three nonzero coefficients. I'll go through a large range of numbers, and then see where there were only 3 nonzero coefficients."
   ]
  },
  {
   "cell_type": "markdown",
   "metadata": {},
   "source": [
    "My results: I am uncertain as of the moment. I do know that 5 of the terms are divisible by 105... and 15, so perhaps something to do with this. But no luck."
   ]
  },
  {
   "cell_type": "markdown",
   "metadata": {},
   "source": [
    "### Problem 3 \n",
    "Implement the secant method for root finding. Use it to find the number that you get\n",
    "when you push the ”cos” button on a scientific calculator repeatedly."
   ]
  },
  {
   "cell_type": "code",
   "execution_count": 436,
   "metadata": {},
   "outputs": [
    {
     "name": "stdout",
     "output_type": "stream",
     "text": [
      "n: 0, xn: 3, p(xn): -0.9899924966004454\n",
      "n: 1, xn: 0, p(xn): 1.0\n",
      "n: 2, xn: 1.5075433727137042, p(xn): 0.06321078401244082\n",
      "n: 3, xn: 1.597117109571447, p(xn): -0.026317743780686558\n",
      "n: 4, xn: 1.57078607616556, p(xn): 1.0250629336342976e-05\n",
      "n: 5, xn: 1.5707963279781092, p(xn): -1.1832125777453532e-09\n",
      "n: 6, xn: 1.5707963267948966, p(xn): 6.123233995736766e-17\n",
      "convergence\n"
     ]
    }
   ],
   "source": [
    "from math import *\n",
    "\n",
    "def f(x):\n",
    "    \"\"\" equation for secant method \"\"\"\n",
    "#     f = x**5 + x**3 + 3 # from example 1 on page 113\n",
    "    f = cos(x)\n",
    "    return f\n",
    "\n",
    "def secantMethod(a, b, nmax, e):\n",
    "    \"\"\" secant method for root finding as described on page 112-113, chapter 3 of the textbook \"\"\"\n",
    "    fa = f(a)\n",
    "    fb = f(b)\n",
    "    if abs(fa) > abs(fb):\n",
    "        temp = a\n",
    "        tempf = fa\n",
    "        a = b\n",
    "        b = temp\n",
    "        fa = fb\n",
    "        fb = tempf\n",
    "    print(f\"n: {0}, xn: {a}, p(xn): {fa}\")\n",
    "    print(f\"n: {1}, xn: {b}, p(xn): {fb}\")\n",
    "    \n",
    "    for n in range(2, nmax+1):\n",
    "        if abs(fa) > abs(fb):\n",
    "            temp = a\n",
    "            tempf = fa\n",
    "            a = b\n",
    "            b = temp\n",
    "            fa = fb\n",
    "            fb = tempf\n",
    "        d = (b-a)/(fb-fa)\n",
    "        b = a\n",
    "        fb = fa\n",
    "        d = d * fa\n",
    "        if abs(d) < e:\n",
    "            print(\"convergence\")\n",
    "            return\n",
    "        a = a -d\n",
    "        fa = f(a)\n",
    "        print(f\"n: {n}, xn: {a}, p(xn): {fa}\")\n",
    "\n",
    "\n",
    "# secantMethod(-1, 1, 8, 0.000000001) # from example 1 on page 113\n",
    "secantMethod(0, 3, 100, 0.000000001)"
   ]
  },
  {
   "cell_type": "markdown",
   "metadata": {},
   "source": [
    "I implemented the secant method for root finding. However, I am uncertain as to what the number is that is meant by pushing the \"cos\" button on a scientific calculator repeatedly. I don't get a number when I do this, only error. Unless that was just a jokingly way of saying to find a root of cos(x)..."
   ]
  },
  {
   "cell_type": "markdown",
   "metadata": {},
   "source": [
    "### Problem 4 (Ignore; did not do)\n",
    "Let *f<sub>n</sub>* be the degree-*n* Taylor polynomial for sin(*x*) around the point *x* = 0, and let *e<sub>n</sub>(x) = sin(x) − f<sub>n</sub>(x)*. Let *M(n)* be the smallest number *x* > 0 for which *e<sub>n</sub>(x)* exceeds 0.001. Plot a graph of *M(n)* versus *n*, for *n* < 20.\n"
   ]
  },
  {
   "cell_type": "markdown",
   "metadata": {},
   "source": [
    "---\n",
    "\n",
    "# Written Problems"
   ]
  },
  {
   "cell_type": "markdown",
   "metadata": {},
   "source": [
    "### Problem 1\n",
    "Using Taylor’s theorem, find a number n such that the value of the degree-n Taylor\n",
    "polynomial for ln(x), centered at x = 1, is within 2<sup>−16</sup> of the value of ln(x) itself for\n",
    "all x in ($\\frac{1}{3}$, $\\frac{3}{2}$). You don’t need to find the smallest such n - but you do need to provide\n",
    "reasoning for why the value of n that you chose works."
   ]
  },
  {
   "attachments": {},
   "cell_type": "markdown",
   "metadata": {},
   "source": [
    "Let f<sub>n</sub>(x) represent the degree-n Taylor polynomial for ln(x), centered at x=1. (using some stuff from example 9 in ch 1.2)"
   ]
  },
  {
   "cell_type": "code",
   "execution_count": 432,
   "metadata": {},
   "outputs": [
    {
     "name": "stdout",
     "output_type": "stream",
     "text": [
      "6 terms: Taylor Series approx= 0.22313639322916667, exp calc= 0.22314355131420976, error = 7.158085043090789e-06\n",
      "5 terms: Taylor Series approx= 0.18233066666666664, exp calc= 0.1823215567939546, error = 9.109872712048661e-06\n",
      "21 terms: Taylor Series approx= -1.0787963861607122, exp calc= -1.0788096613719298, error = 1.3275211217633753e-05\n",
      "13 terms: Taylor Series approx= -0.6931389804314607, exp calc= -0.6931471805599453, error = 8.20012848457008e-06\n",
      "22 terms: Taylor Series approx= -1.0986015077404407, exp calc= -1.0986122886681098, error = 1.0780927669040707e-05\n",
      "11 terms: Taylor Series approx= 0.4054790370220058, exp calc= 0.4054651081081644, error = 1.3928913841387836e-05\n"
     ]
    }
   ],
   "source": [
    "import math\n",
    "\n",
    "def func_ln(x, n):\n",
    "    ln_approx = 0\n",
    "    for i in range(1,n+1):\n",
    "        ln_approx += ((-1)**(i-1)) * (((x-1)**i)/i)\n",
    "    \n",
    "    return ln_approx\n",
    "\n",
    "def errorCheck(x):\n",
    "    for n in range(0,50):\n",
    "        approx = func_ln(x, n)\n",
    "        exp = math.log(x)\n",
    "        error = abs(approx - exp)\n",
    "        if error < 2**(-16):\n",
    "            break\n",
    "    print(f'{n} terms: Taylor Series approx= {approx}, exp calc= {exp}, error = {error}')\n",
    "    \n",
    "errorCheck(1.25)\n",
    "errorCheck(1.2)\n",
    "errorCheck(0.34)\n",
    "errorCheck(0.5)\n",
    "errorCheck(1/3)\n",
    "errorCheck(3/2)"
   ]
  },
  {
   "cell_type": "markdown",
   "metadata": {},
   "source": [
    "Take ln($\\frac{5}{4}$) for a test. Using the series for ln(x) centered at x=1, f(1.25) = $\\frac{1}{4}$ - $\\frac{1}{32}$ + $\\frac{1}{192}$ - $\\frac{1}{1024}$ +...+ $\\frac{(-1)^{n-1}}{(4)^n*n}$\n",
    "\n",
    "By the Alternating Series Thm, the error for truncating the series by n terms is | ln(1.25)-f(1.25) | <= $\\frac{1}{(4)^{n+1}(n+1)}$.\n",
    "We want to select n such that $\\frac{1}{(4)^{n+1}(n+1)}$ < 2<sup>-16</sup>. We found n=6 will work, and we successfully check below.\n",
    "\n",
    "We can check |ln(1.25) - f<sub>6</sub>(1.25)| = (about) 7.16 * 10^-6\n",
    "\n",
    "and |ln(1.25) - f<sub>5</sub>(1.25)| = (about) 3.35 * 10^-5"
   ]
  },
  {
   "cell_type": "markdown",
   "metadata": {},
   "source": [
    "n=22 could work for all the values between ($\\frac{1}{3}$, $\\frac{3}{2}$). I checked how it would work for the ends of the interval (though not included in valid values of x) to see the highest value of n it would take."
   ]
  },
  {
   "cell_type": "markdown",
   "metadata": {},
   "source": [
    "### Problem 2\n",
    "Suppose f(x) is a degree-n polynomial with n distinct roots in the interval [−1, 1].\n",
    "Describe an algorithm which finds, numerically, all of these roots with an error of at\n",
    "most $\\in$ . Hint: Between any two roots of f, you can find a root of f ' (why?)."
   ]
  },
  {
   "cell_type": "markdown",
   "metadata": {},
   "source": [
    "Between any two roots of f, you can find a root of f'. This is because as f crosses the x-xis, it is either increasing or decreasing. The root of f' that is between the two roots will reflect this change of either increasing then decreasing at a turning point, or decreasing then increasing at a turning point, as the moment it changes from increasing to decreasing at a turning point(or vice-versa) will be the root of f'. For example, f(x)=x<sup>2</sup>-1 has two roots x=-1, 1 and f'(x)=2x has root x=0. Another example is f(x)=5x<sup>3</sup>+2x<sup>2</sup>-3x (roots at x=-1, 0, 0.6) and f'(x)=15x<sup>2</sup>+4x-3 (roots at x=-0.6, 0.333...).\n",
    "\n",
    "\n",
    "Knowing this, you could take the integral of f(x), and then see where there are turning points in the antiderivative. These turning points should line up with the roots of f(x)."
   ]
  },
  {
   "cell_type": "markdown",
   "metadata": {},
   "source": [
    "### Problem 3\n",
    "Here is one way that a computer might compute ln x, for a fixed number x. Write y = ln x for the number we’re trying to compute. Then e<sup>y</sup> = x, so y is a root of e<sup>y</sup>−x. We find this root with Newton’s method. For which values of x does this work well? For which values does it work badly?\n"
   ]
  },
  {
   "cell_type": "markdown",
   "metadata": {},
   "source": [
    "We use the formula for Newton's method, x<sub>n+1</sub> = x<sub>n</sub> - $\\frac{f(x_n)}{f'(x_n)}$, and apply it by substituting f(x) = e<sup>y</sup> - *x*"
   ]
  },
  {
   "cell_type": "markdown",
   "metadata": {},
   "source": [
    "This looks like, x<sub>n+1</sub> = x<sub>n</sub> - $\\frac{e^y-x}{e^y}$"
   ]
  },
  {
   "cell_type": "markdown",
   "metadata": {},
   "source": [
    "---\n",
    "From first glance, it looks like this will not work for values of x < 0, since ln(x) only works with values x > 0 (else it is undefined).\n",
    "\n",
    "Let's try x = 0. We can start with x<sub>0</sub> = 0\n",
    "\n",
    "ln(0) is undefined\n",
    "x<sub>1</sub> = 0 - $\\frac{e^{0}-0}{e^{0}}$ = -1\n",
    "\n",
    "x<sub>2</sub> = x<sub>1</sub> - $\\frac{e^{x_1}-0}{e^{x_1}}$ = -2\n",
    "\n",
    "x<sub>3</sub> = x<sub>2</sub> - $\\frac{e^{x_2}-0}{e^{x_2}}$ = -3\n",
    "\n",
    "x<sub>4</sub> = x<sub>3</sub> - $\\frac{e^{x_3}-0}{e^{x_3}}$ = -4\n",
    "\n",
    "That is weird. This behaves badly, as expected.\n",
    "\n",
    "---\n",
    "Let's try x = -50. We can start with x<sub>0</sub> = 0\n",
    "\n",
    "ln(-50) is undefined\n",
    "x<sub>1</sub> = 0 - $\\frac{e^{0}+50}{e^{0}}$ = -51\n",
    "\n",
    "x<sub>2</sub> = x<sub>1</sub> - $\\frac{e^{x_1}-0}{e^{x_1}}$ = -7.04674541 * 10<sup>23</sup>\n",
    "\n",
    "x<sub>3</sub> = x<sub>2</sub> - $\\frac{e^{x_2}-0}{e^{x_2}}$ = ? I got a divide by zero error\n",
    "\n",
    "That is weird. This also behaves badly, as expected.\n",
    "\n",
    "---\n",
    "Let's try x = 2. We can start with x<sub>0</sub> = 0.5\n",
    "\n",
    "ln(2) is approximately 0.6931471806\n",
    "x<sub>1</sub> = 0.5 - $\\frac{e^{0.5}-2}{e^{0.5}}$ = 0.7130613194 (about)\n",
    "\n",
    "x<sub>2</sub> = x<sub>1</sub> - $\\frac{e^{x_1}-2}{e^{x_1}}$ = 0.6933441573 (about)\n",
    "\n",
    "x<sub>3</sub> = x<sub>2</sub> - $\\frac{e^{x_2}-2}{e^{x_2}}$ = 0.6931472\n",
    "\n",
    "x<sub>4</sub> = x<sub>3</sub> - $\\frac{e^{x_3}-2}{e^{x_3}}$ = 0.6931471806 (about)\n",
    "\n",
    "That was quick!\n",
    "\n",
    "---\n",
    "Let's try x = 50. We can start with x<sub>0</sub> = 3\n",
    "\n",
    "ln(50) is approximately 3.912023005\n",
    "x<sub>1</sub> = 3 - $\\frac{e^{3}-50}{e^{3}}$ = 4.489353418 (about)\n",
    "\n",
    "x<sub>2</sub> = x<sub>1</sub> - $\\frac{e^{x_1}-50}{e^{x_1}}$ = 4.05074879 (about)\n",
    "\n",
    "x<sub>3</sub> = x<sub>2</sub> - $\\frac{e^{x_2}-50}{e^{x_2}}$ = 3.921215441 (about)\n",
    "\n",
    "x<sub>4</sub> = x<sub>3</sub> - $\\frac{e^{x_3}-50}{e^{x_3}}$ = 3.912065127 (about)\n",
    "\n",
    "x<sub>5</sub> = x<sub>4</sub> - $\\frac{e^{x_4}-50}{e^{x_4}}$ = 3.912023006 (about)\n",
    "\n",
    "x<sub>6</sub> = x<sub>5</sub> - $\\frac{e^{x_5}-50}{e^{x_4}}$ = 3.912023005 (about)\n",
    "\n",
    "That was also pretty quick!"
   ]
  },
  {
   "cell_type": "markdown",
   "metadata": {},
   "source": [
    "Based on my observations above, I think as long as x > 0, then Newton's Method should behave well. Values x <= 0 behaved very badly."
   ]
  },
  {
   "cell_type": "markdown",
   "metadata": {},
   "source": [
    "### Problem 4\n",
    "Use Newton’s method to compute $\\sqrt[3]{a}$, where *a* is a fixed number. Make sure to simplify\n",
    "the expression so as to avoid loss of significance."
   ]
  },
  {
   "cell_type": "markdown",
   "metadata": {},
   "source": [
    "We are trying to find the cubed root of *a*, a fixed number. Let's say that x is the cubed root of *a*, therefore x<sup>3</sup> = *a*."
   ]
  },
  {
   "cell_type": "markdown",
   "metadata": {},
   "source": [
    "We set this equal to zero: x<sup>3</sup> - *a* = 0."
   ]
  },
  {
   "cell_type": "markdown",
   "metadata": {},
   "source": [
    "We then use the formula for Newton's method, x<sub>n+1</sub> = x<sub>n</sub> - $\\frac{f(x_n)}{f'(x_n)}$, and apply it by substituting f(x) = x<sup>3</sup> - *a*"
   ]
  },
  {
   "cell_type": "markdown",
   "metadata": {},
   "source": [
    "This looks like: x<sub>n+1</sub> = x<sub>n</sub> - $\\frac{(x_n)^3-a}{3*(x_n)^2}$"
   ]
  }
 ],
 "metadata": {
  "kernelspec": {
   "display_name": "Python 3",
   "language": "python",
   "name": "python3"
  },
  "language_info": {
   "codemirror_mode": {
    "name": "ipython",
    "version": 3
   },
   "file_extension": ".py",
   "mimetype": "text/x-python",
   "name": "python",
   "nbconvert_exporter": "python",
   "pygments_lexer": "ipython3",
   "version": "3.8.5"
  }
 },
 "nbformat": 4,
 "nbformat_minor": 4
}
